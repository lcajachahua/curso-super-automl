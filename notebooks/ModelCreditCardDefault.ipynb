{
 "cells": [
  {
   "cell_type": "markdown",
   "metadata": {
    "id": "DOGa617qS5Ly"
   },
   "source": [
    "# Caso: Modelo de Predicción de Default en Tarjetas de Crédito\n",
    "\n",
    "Puede descargar los datos de: https://archive.ics.uci.edu/ml/datasets/default+of+credit+card+clients#"
   ]
  },
  {
   "cell_type": "markdown",
   "metadata": {},
   "source": [
    "### Intalar las librerías"
   ]
  },
  {
   "cell_type": "code",
   "execution_count": null,
   "metadata": {
    "id": "sUu4EsJ0b9y2"
   },
   "outputs": [],
   "source": [
    "## pip install woe lightgbm catboost xgboost boruta kds"
   ]
  },
  {
   "cell_type": "markdown",
   "metadata": {
    "id": "2uKqxuVvS5MC"
   },
   "source": [
    "### **1. Carga de Modulos**"
   ]
  },
  {
   "cell_type": "code",
   "execution_count": null,
   "metadata": {
    "executionInfo": {
     "elapsed": 783,
     "status": "ok",
     "timestamp": 1631341378824,
     "user": {
      "displayName": "ANDRE OMAR CHAVEZ PANDURO",
      "photoUrl": "https://lh3.googleusercontent.com/a-/AOh14GhhoQ1kbFXrI1LHS5aCbnzbQoTSVMlrpsL1-iED=s64",
      "userId": "14331399592622880507"
     },
     "user_tz": 300
    },
    "id": "AnIT4fBaS5MD"
   },
   "outputs": [],
   "source": [
    "import warnings\n",
    "warnings.filterwarnings('always')\n",
    "warnings.filterwarnings('ignore')\n",
    "\n",
    "import numpy as np\n",
    "import pandas as pd\n",
    "import matplotlib.pyplot as plt\n",
    "from matplotlib import style\n",
    "from matplotlib.legend_handler import HandlerBase\n",
    "import seaborn as sns\n",
    "import missingno as msno\n",
    "\n",
    "%matplotlib inline  \n",
    "style.use('fivethirtyeight')\n",
    "sns.set(style='whitegrid',color_codes=True)\n",
    "\n",
    "from sklearn.linear_model import LogisticRegression\n",
    "from sklearn.svm import LinearSVC,SVC\n",
    "from sklearn.neighbors import KNeighborsClassifier\n",
    "from sklearn.ensemble import RandomForestClassifier,GradientBoostingClassifier\n",
    "from sklearn.tree import DecisionTreeClassifier\n",
    "from sklearn.naive_bayes import GaussianNB\n",
    "\n",
    "from sklearn.model_selection import train_test_split,cross_validate\n",
    "from sklearn.model_selection import KFold\n",
    "from sklearn.model_selection import GridSearchCV\n",
    "from sklearn.preprocessing import LabelEncoder\n",
    "\n",
    "from sklearn.metrics import accuracy_score,precision_score,recall_score,f1_score  # for classification\n",
    "\n",
    "import kds"
   ]
  },
  {
   "cell_type": "markdown",
   "metadata": {
    "id": "UnPnopgUS5MN"
   },
   "source": [
    "### **2. Lectura Inicial de base de datos**"
   ]
  },
  {
   "cell_type": "markdown",
   "metadata": {
    "id": "vXGXaQV9S5MO"
   },
   "source": [
    "#### 2.1. Carga de datos"
   ]
  },
  {
   "cell_type": "code",
   "execution_count": null,
   "metadata": {
    "executionInfo": {
     "elapsed": 1574,
     "status": "ok",
     "timestamp": 1631341381955,
     "user": {
      "displayName": "ANDRE OMAR CHAVEZ PANDURO",
      "photoUrl": "https://lh3.googleusercontent.com/a-/AOh14GhhoQ1kbFXrI1LHS5aCbnzbQoTSVMlrpsL1-iED=s64",
      "userId": "14331399592622880507"
     },
     "user_tz": 300
    },
    "id": "pJ3QaE1oS5MP"
   },
   "outputs": [],
   "source": [
    "# Leemos la data de desarrollo de modelos\n",
    "df = pd.read_csv(\"../data/defaultcc.csv\") "
   ]
  },
  {
   "cell_type": "code",
   "execution_count": null,
   "metadata": {
    "executionInfo": {
     "elapsed": 287,
     "status": "ok",
     "timestamp": 1631346514989,
     "user": {
      "displayName": "ANDRE OMAR CHAVEZ PANDURO",
      "photoUrl": "https://lh3.googleusercontent.com/a-/AOh14GhhoQ1kbFXrI1LHS5aCbnzbQoTSVMlrpsL1-iED=s64",
      "userId": "14331399592622880507"
     },
     "user_tz": 300
    },
    "id": "cS6x4KsDS5MV"
   },
   "outputs": [],
   "source": [
    "# Vemos la dimensionalidad\n",
    "df.shape"
   ]
  },
  {
   "cell_type": "code",
   "execution_count": null,
   "metadata": {
    "executionInfo": {
     "elapsed": 304,
     "status": "ok",
     "timestamp": 1631346519221,
     "user": {
      "displayName": "ANDRE OMAR CHAVEZ PANDURO",
      "photoUrl": "https://lh3.googleusercontent.com/a-/AOh14GhhoQ1kbFXrI1LHS5aCbnzbQoTSVMlrpsL1-iED=s64",
      "userId": "14331399592622880507"
     },
     "user_tz": 300
    },
    "id": "zm4WmZlxS5Me"
   },
   "outputs": [],
   "source": [
    "# Visualizacion Global de los datos\n",
    "df.head()"
   ]
  },
  {
   "cell_type": "code",
   "execution_count": null,
   "metadata": {},
   "outputs": [],
   "source": [
    "df.drop(['ID'],axis=1,inplace=True)"
   ]
  },
  {
   "cell_type": "markdown",
   "metadata": {
    "id": "q53Kq9unS5Ml"
   },
   "source": [
    "#### 2.2. Buenas prácticas"
   ]
  },
  {
   "cell_type": "code",
   "execution_count": null,
   "metadata": {
    "executionInfo": {
     "elapsed": 263,
     "status": "ok",
     "timestamp": 1631346523900,
     "user": {
      "displayName": "ANDRE OMAR CHAVEZ PANDURO",
      "photoUrl": "https://lh3.googleusercontent.com/a-/AOh14GhhoQ1kbFXrI1LHS5aCbnzbQoTSVMlrpsL1-iED=s64",
      "userId": "14331399592622880507"
     },
     "user_tz": 300
    },
    "id": "4sLayKIqS5Mn"
   },
   "outputs": [],
   "source": [
    "df.columns"
   ]
  },
  {
   "cell_type": "code",
   "execution_count": null,
   "metadata": {},
   "outputs": [],
   "source": [
    "df.info()"
   ]
  },
  {
   "cell_type": "markdown",
   "metadata": {
    "id": "z-xwHgOuS5M8"
   },
   "source": [
    "#### 3. AED"
   ]
  },
  {
   "cell_type": "markdown",
   "metadata": {
    "id": "XASOd9Y3S5NN"
   },
   "source": [
    "#### 3.1. Completitud de los datos"
   ]
  },
  {
   "cell_type": "code",
   "execution_count": null,
   "metadata": {
    "executionInfo": {
     "elapsed": 267,
     "status": "ok",
     "timestamp": 1631346537124,
     "user": {
      "displayName": "ANDRE OMAR CHAVEZ PANDURO",
      "photoUrl": "https://lh3.googleusercontent.com/a-/AOh14GhhoQ1kbFXrI1LHS5aCbnzbQoTSVMlrpsL1-iED=s64",
      "userId": "14331399592622880507"
     },
     "user_tz": 300
    },
    "id": "ft_rOdkxS5NO"
   },
   "outputs": [],
   "source": [
    "# Revisamos los valores nulos o missings!\n",
    "df.isnull().sum()"
   ]
  },
  {
   "cell_type": "code",
   "execution_count": null,
   "metadata": {
    "executionInfo": {
     "elapsed": 270,
     "status": "ok",
     "timestamp": 1631341508763,
     "user": {
      "displayName": "ANDRE OMAR CHAVEZ PANDURO",
      "photoUrl": "https://lh3.googleusercontent.com/a-/AOh14GhhoQ1kbFXrI1LHS5aCbnzbQoTSVMlrpsL1-iED=s64",
      "userId": "14331399592622880507"
     },
     "user_tz": 300
    },
    "id": "S3IV-Y-LS5NU"
   },
   "outputs": [],
   "source": [
    "## Para variables Cualitativas\n",
    "def plot_cat(feature):\n",
    "  sns.countplot(data=df,x=feature)\n",
    "  ax=sns.countplot(data=df,x=feature)"
   ]
  },
  {
   "cell_type": "markdown",
   "metadata": {
    "id": "QQ4an-XMc2yg"
   },
   "source": [
    "#### 3.2. Análisis Univariado"
   ]
  },
  {
   "cell_type": "code",
   "execution_count": null,
   "metadata": {},
   "outputs": [],
   "source": [
    "plot_cat('DEFAULT')"
   ]
  },
  {
   "cell_type": "code",
   "execution_count": null,
   "metadata": {},
   "outputs": [],
   "source": [
    "## Calculando la proporción del Target\n",
    "df.DEFAULT.value_counts(normalize=True)"
   ]
  },
  {
   "cell_type": "code",
   "execution_count": null,
   "metadata": {},
   "outputs": [],
   "source": [
    "plot_cat('SEX')"
   ]
  },
  {
   "cell_type": "code",
   "execution_count": null,
   "metadata": {},
   "outputs": [],
   "source": [
    "df.groupby('SEX').DEFAULT.value_counts(normalize=True).unstack(fill_value=0)"
   ]
  },
  {
   "cell_type": "code",
   "execution_count": null,
   "metadata": {},
   "outputs": [],
   "source": [
    "plot_cat('EDUCATION')"
   ]
  },
  {
   "cell_type": "code",
   "execution_count": null,
   "metadata": {},
   "outputs": [],
   "source": [
    "df.groupby('EDUCATION').DEFAULT.value_counts(normalize=True).unstack(fill_value=0)"
   ]
  },
  {
   "cell_type": "code",
   "execution_count": null,
   "metadata": {},
   "outputs": [],
   "source": [
    "plot_cat('MARRIAGE')"
   ]
  },
  {
   "cell_type": "code",
   "execution_count": null,
   "metadata": {},
   "outputs": [],
   "source": [
    "df.groupby('MARRIAGE').DEFAULT.value_counts(normalize=True).unstack(fill_value=0)"
   ]
  },
  {
   "cell_type": "code",
   "execution_count": null,
   "metadata": {},
   "outputs": [],
   "source": [
    "## Para variables cuantitativas\n",
    "def plot_num(feature):\n",
    "    fig,axes=plt.subplots(1,2)\n",
    "    sns.boxplot(data=df,x=feature,ax=axes[0])\n",
    "    sns.distplot(a=df[feature],ax=axes[1],color='#ff4125')\n",
    "    fig.set_size_inches(15,5)"
   ]
  },
  {
   "cell_type": "code",
   "execution_count": null,
   "metadata": {},
   "outputs": [],
   "source": [
    "plot_num('LIMIT_BAL')"
   ]
  },
  {
   "cell_type": "code",
   "execution_count": null,
   "metadata": {},
   "outputs": [],
   "source": [
    "plot_num('AGE')"
   ]
  },
  {
   "cell_type": "code",
   "execution_count": null,
   "metadata": {},
   "outputs": [],
   "source": [
    "plot_num('PAY_1')"
   ]
  },
  {
   "cell_type": "code",
   "execution_count": null,
   "metadata": {},
   "outputs": [],
   "source": [
    "df.groupby('PAY_1').DEFAULT.value_counts(normalize=True).unstack(fill_value=0)"
   ]
  },
  {
   "cell_type": "code",
   "execution_count": null,
   "metadata": {
    "tags": []
   },
   "outputs": [],
   "source": [
    "plot_num('PAY_2')"
   ]
  },
  {
   "cell_type": "code",
   "execution_count": null,
   "metadata": {},
   "outputs": [],
   "source": [
    "df.groupby('PAY_2').DEFAULT.value_counts(normalize=True).unstack(fill_value=0)"
   ]
  },
  {
   "cell_type": "code",
   "execution_count": null,
   "metadata": {},
   "outputs": [],
   "source": [
    "plot_num('PAY_3')"
   ]
  },
  {
   "cell_type": "code",
   "execution_count": null,
   "metadata": {},
   "outputs": [],
   "source": [
    "df.groupby('PAY_3').DEFAULT.value_counts(normalize=True).unstack(fill_value=0)"
   ]
  },
  {
   "cell_type": "code",
   "execution_count": null,
   "metadata": {},
   "outputs": [],
   "source": [
    "plot_num('PAY_4')"
   ]
  },
  {
   "cell_type": "code",
   "execution_count": null,
   "metadata": {},
   "outputs": [],
   "source": [
    "df.groupby('PAY_4').DEFAULT.value_counts(normalize=True).unstack(fill_value=0)"
   ]
  },
  {
   "cell_type": "code",
   "execution_count": null,
   "metadata": {},
   "outputs": [],
   "source": [
    "plot_num('PAY_5')"
   ]
  },
  {
   "cell_type": "code",
   "execution_count": null,
   "metadata": {},
   "outputs": [],
   "source": [
    "df.groupby('PAY_5').DEFAULT.value_counts(normalize=True).unstack(fill_value=0)"
   ]
  },
  {
   "cell_type": "code",
   "execution_count": null,
   "metadata": {},
   "outputs": [],
   "source": [
    "plot_num('PAY_6')"
   ]
  },
  {
   "cell_type": "code",
   "execution_count": null,
   "metadata": {},
   "outputs": [],
   "source": [
    "df.groupby('PAY_6').DEFAULT.value_counts(normalize=True).unstack(fill_value=0)"
   ]
  },
  {
   "cell_type": "code",
   "execution_count": null,
   "metadata": {},
   "outputs": [],
   "source": [
    "## Matriz de corelaciones\n",
    "cor_mat = df[['PAY_1','PAY_2','PAY_3','PAY_4','PAY_5','PAY_6']].corr()\n",
    "mask = np.array(cor_mat)\n",
    "mask[np.tril_indices_from(mask)] = False\n",
    "fig = plt.gcf()\n",
    "fig.set_size_inches(30,12)\n",
    "sns.heatmap(data=cor_mat,mask=mask,square=True,annot=True,cbar=True)"
   ]
  },
  {
   "cell_type": "code",
   "execution_count": null,
   "metadata": {},
   "outputs": [],
   "source": [
    "plot_num('BILL_AMT1')"
   ]
  },
  {
   "cell_type": "code",
   "execution_count": null,
   "metadata": {},
   "outputs": [],
   "source": [
    "plot_num('BILL_AMT2')"
   ]
  },
  {
   "cell_type": "code",
   "execution_count": null,
   "metadata": {},
   "outputs": [],
   "source": [
    "plot_num('BILL_AMT3')"
   ]
  },
  {
   "cell_type": "code",
   "execution_count": null,
   "metadata": {},
   "outputs": [],
   "source": [
    "plot_num('BILL_AMT4')"
   ]
  },
  {
   "cell_type": "code",
   "execution_count": null,
   "metadata": {},
   "outputs": [],
   "source": [
    "plot_num('BILL_AMT5')"
   ]
  },
  {
   "cell_type": "code",
   "execution_count": null,
   "metadata": {},
   "outputs": [],
   "source": [
    "plot_num('BILL_AMT6')"
   ]
  },
  {
   "cell_type": "code",
   "execution_count": null,
   "metadata": {},
   "outputs": [],
   "source": [
    "## Matriz de corelaciones\n",
    "cor_mat = df[['BILL_AMT1','BILL_AMT2','BILL_AMT3','BILL_AMT4','BILL_AMT5','BILL_AMT6']].corr()\n",
    "mask = np.array(cor_mat)\n",
    "mask[np.tril_indices_from(mask)] = False\n",
    "fig = plt.gcf()\n",
    "fig.set_size_inches(30,12)\n",
    "sns.heatmap(data=cor_mat,mask=mask,square=True,annot=True,cbar=True)"
   ]
  },
  {
   "cell_type": "code",
   "execution_count": null,
   "metadata": {},
   "outputs": [],
   "source": [
    "## Revisemos la correlación entre pares de variables\n",
    "fig, ax = plt.subplots()\n",
    "ax.scatter(x =(df['BILL_AMT1']), y = df['BILL_AMT2'])\n",
    "plt.ylabel('BILL_AMT2')\n",
    "plt.xlabel('BILL_AMT1')\n",
    "plt.show()   "
   ]
  },
  {
   "cell_type": "code",
   "execution_count": null,
   "metadata": {},
   "outputs": [],
   "source": [
    "plot_num('PAY_AMT1')"
   ]
  },
  {
   "cell_type": "code",
   "execution_count": null,
   "metadata": {},
   "outputs": [],
   "source": [
    "plot_num('PAY_AMT1')"
   ]
  },
  {
   "cell_type": "code",
   "execution_count": null,
   "metadata": {},
   "outputs": [],
   "source": [
    "plot_num('PAY_AMT1')"
   ]
  },
  {
   "cell_type": "code",
   "execution_count": null,
   "metadata": {},
   "outputs": [],
   "source": [
    "plot_num('PAY_AMT1')"
   ]
  },
  {
   "cell_type": "code",
   "execution_count": null,
   "metadata": {},
   "outputs": [],
   "source": [
    "plot_num('PAY_AMT1')"
   ]
  },
  {
   "cell_type": "code",
   "execution_count": null,
   "metadata": {},
   "outputs": [],
   "source": [
    "plot_num('PAY_AMT1')"
   ]
  },
  {
   "cell_type": "code",
   "execution_count": null,
   "metadata": {},
   "outputs": [],
   "source": [
    "## Matriz de corelaciones\n",
    "cor_mat = df[['PAY_AMT1','PAY_AMT2','PAY_AMT3','PAY_AMT4','PAY_AMT5','PAY_AMT6']].corr()\n",
    "mask = np.array(cor_mat)\n",
    "mask[np.tril_indices_from(mask)] = False\n",
    "fig = plt.gcf()\n",
    "fig.set_size_inches(30,12)\n",
    "sns.heatmap(data=cor_mat,mask=mask,square=True,annot=True,cbar=True)"
   ]
  },
  {
   "cell_type": "code",
   "execution_count": null,
   "metadata": {
    "tags": []
   },
   "outputs": [],
   "source": [
    "## Matriz de corelaciones\n",
    "cor_mat = df[['LIMIT_BAL','PAY_1','PAY_2','BILL_AMT1','BILL_AMT2','PAY_AMT1','PAY_AMT2']].corr()\n",
    "mask = np.array(cor_mat)\n",
    "mask[np.tril_indices_from(mask)] = False\n",
    "fig = plt.gcf()\n",
    "fig.set_size_inches(30,12)\n",
    "sns.heatmap(data=cor_mat,mask=mask,square=True,annot=True,cbar=True)"
   ]
  },
  {
   "cell_type": "markdown",
   "metadata": {
    "id": "aHTsaQmMS5Nb"
   },
   "source": [
    "Observamos que no existen correlaciones significativas entre los tres grupos de variables"
   ]
  },
  {
   "cell_type": "markdown",
   "metadata": {
    "id": "d8j470AQS5N-"
   },
   "source": [
    "#### 3.2. Recodificacion y transformación de los datos"
   ]
  },
  {
   "cell_type": "code",
   "execution_count": null,
   "metadata": {},
   "outputs": [],
   "source": [
    "# Convertimos SEX en dummy\n",
    "df.SEX=df.SEX-1"
   ]
  },
  {
   "cell_type": "code",
   "execution_count": null,
   "metadata": {},
   "outputs": [],
   "source": [
    "# Creamos tres Variables Dummy para EDUCATION\n",
    "df['EDUCATION_1']=[1 if i == 1 else 0 for i in df['EDUCATION']]\n",
    "df['EDUCATION_2']=[1 if i == 2 else 0 for i in df['EDUCATION']]\n",
    "df['EDUCATION_3']=[1 if i == 3 else 0 for i in df['EDUCATION']]"
   ]
  },
  {
   "cell_type": "code",
   "execution_count": null,
   "metadata": {},
   "outputs": [],
   "source": [
    "# Creamos dos Variables Dummy para MARRIAGE\n",
    "df['MARRIAGE_1']=[1 if i == 1 else 0 for i in df['MARRIAGE']]\n",
    "df['MARRIAGE_2']=[1 if i == 2 else 0 for i in df['MARRIAGE']]"
   ]
  },
  {
   "cell_type": "code",
   "execution_count": null,
   "metadata": {},
   "outputs": [],
   "source": [
    "## Generar variables Cuantitativas transformadas\n",
    "LIST_BILL = ['BILL_AMT1','BILL_AMT2','BILL_AMT3','BILL_AMT4','BILL_AMT5','BILL_AMT6']\n",
    "for i in LIST_BILL:\n",
    " df.loc[df.loc[:,i]==-1,i]=0"
   ]
  },
  {
   "cell_type": "code",
   "execution_count": null,
   "metadata": {},
   "outputs": [],
   "source": [
    "df['LOG_BILL_AMT1'] = round(np.log1p(df['BILL_AMT1']),5)\n",
    "df['LOG_BILL_AMT2'] = round(np.log1p(df['BILL_AMT2']),5)\n",
    "df['LOG_BILL_AMT3'] = round(np.log1p(df['BILL_AMT3']),5)\n",
    "df['LOG_BILL_AMT4'] = round(np.log1p(df['BILL_AMT4']),5)\n",
    "df['LOG_BILL_AMT5'] = round(np.log1p(df['BILL_AMT5']),5)\n",
    "df['LOG_BILL_AMT6'] = round(np.log1p(df['BILL_AMT6']),5)\n",
    "df['LOG_PAY_AMT1'] = round(np.log1p(df['PAY_AMT1']),5)\n",
    "df['LOG_PAY_AMT2'] = round(np.log1p(df['PAY_AMT2']),5)\n",
    "df['LOG_PAY_AMT3'] = round(np.log1p(df['PAY_AMT3']),5)\n",
    "df['LOG_PAY_AMT4'] = round(np.log1p(df['PAY_AMT4']),5)\n",
    "df['LOG_PAY_AMT5'] = round(np.log1p(df['PAY_AMT5']),5)\n",
    "df['LOG_PAY_AMT6'] = round(np.log1p(df['PAY_AMT6']),5)"
   ]
  },
  {
   "cell_type": "code",
   "execution_count": null,
   "metadata": {},
   "outputs": [],
   "source": [
    "LIST_PAY  = ['PAY_1','PAY_2','PAY_3','PAY_4','PAY_5','PAY_6']\n",
    "LIST_BILL = ['LOG_BILL_AMT1','LOG_BILL_AMT2','LOG_BILL_AMT3','LOG_BILL_AMT4','LOG_BILL_AMT5','LOG_BILL_AMT6']\n",
    "LIST_PAMT = ['LOG_PAY_AMT1','LOG_PAY_AMT2','LOG_PAY_AMT3','LOG_PAY_AMT4','LOG_PAY_AMT5','LOG_PAY_AMT6']"
   ]
  },
  {
   "cell_type": "code",
   "execution_count": null,
   "metadata": {},
   "outputs": [],
   "source": [
    "for i in LIST_BILL:\n",
    " df.loc[df.loc[:,i].isnull(),i]=0"
   ]
  },
  {
   "cell_type": "markdown",
   "metadata": {
    "id": "XAHbg9rhS5Oi"
   },
   "source": [
    "### **4. Ingeniería y Selección de Variables**"
   ]
  },
  {
   "cell_type": "markdown",
   "metadata": {
    "id": "WRM_DjK3S5Oj"
   },
   "source": [
    "#### 4.1. Ingenieria de variables"
   ]
  },
  {
   "cell_type": "code",
   "execution_count": null,
   "metadata": {
    "tags": []
   },
   "outputs": [],
   "source": [
    "## Creamos las variables para el entrenamiento o train\n",
    "df['SUM_PAY_TOT']    = df[LIST_PAY].sum(axis=1)\n",
    "df['STD_PAY_TOT']    = df[LIST_PAY].std(axis=1)\n",
    "df['SUM_PAY_REC']    = df['PAY_1'] + df['PAY_2']\n",
    "df['CANT_PAY_MAY0']  = df[LIST_PAY].gt(0).sum(axis=1)\n",
    "df['AVG_LBILL_TOT']  = df[LIST_BILL].mean(axis=1)\n",
    "df['STD_LBILL_TOT']  = df[LIST_BILL].std(axis=1)\n",
    "df['CV_LBILL_TOT']   =  df['STD_LBILL_TOT']/(df['AVG_LBILL_TOT']+1)\n",
    "df['SUM_LBILL_REC']  = df['LOG_BILL_AMT1'] + df['LOG_BILL_AMT2']\n",
    "df['CANT_LBILL_MAY0']= df[LIST_BILL].gt(0).sum(axis=1)\n",
    "df['AVG_LPAY_TOT']   = df[LIST_PAMT].mean(axis=1)\n",
    "df['STD_LPAY_TOT']   = df[LIST_PAMT].std(axis=1)\n",
    "df['CV_LPAY_TOT']    =  df['STD_LPAY_TOT']/(df['AVG_LPAY_TOT']+1)\n",
    "df['SUM_LPAY_REC']   = df['LOG_PAY_AMT1'] + df['LOG_PAY_AMT2']\n",
    "df['CANT_LPAY_MAY0'] = df[LIST_PAMT].gt(0).sum(axis=1)\n",
    "df['RATE_PAY_BILL1'] = df['PAY_AMT1']/(df['BILL_AMT1']+1)\n",
    "df['RATE_PAY_BILL2'] = df['PAY_AMT2']/(df['BILL_AMT2']+1)"
   ]
  },
  {
   "cell_type": "code",
   "execution_count": null,
   "metadata": {},
   "outputs": [],
   "source": [
    "df.head()"
   ]
  },
  {
   "cell_type": "code",
   "execution_count": null,
   "metadata": {
    "executionInfo": {
     "elapsed": 258,
     "status": "ok",
     "timestamp": 1631346605007,
     "user": {
      "displayName": "ANDRE OMAR CHAVEZ PANDURO",
      "photoUrl": "https://lh3.googleusercontent.com/a-/AOh14GhhoQ1kbFXrI1LHS5aCbnzbQoTSVMlrpsL1-iED=s64",
      "userId": "14331399592622880507"
     },
     "user_tz": 300
    },
    "id": "y83P0C6BS5Ox"
   },
   "outputs": [],
   "source": [
    "df.shape"
   ]
  },
  {
   "cell_type": "markdown",
   "metadata": {
    "id": "kKjhahjJS5O4"
   },
   "source": [
    "#### 4.1. Selección de variables"
   ]
  },
  {
   "cell_type": "code",
   "execution_count": null,
   "metadata": {
    "executionInfo": {
     "elapsed": 492,
     "status": "ok",
     "timestamp": 1631341628653,
     "user": {
      "displayName": "ANDRE OMAR CHAVEZ PANDURO",
      "photoUrl": "https://lh3.googleusercontent.com/a-/AOh14GhhoQ1kbFXrI1LHS5aCbnzbQoTSVMlrpsL1-iED=s64",
      "userId": "14331399592622880507"
     },
     "user_tz": 300
    },
    "id": "MMYsKcLmS5O-"
   },
   "outputs": [],
   "source": [
    "# Seleccion por Random Forest\n",
    "forest = RandomForestClassifier(n_jobs=-1)\n",
    "forest.fit(df.drop(['DEFAULT'],axis=1), df.DEFAULT)\n",
    "importances = forest.feature_importances_"
   ]
  },
  {
   "cell_type": "code",
   "execution_count": null,
   "metadata": {
    "executionInfo": {
     "elapsed": 282,
     "status": "ok",
     "timestamp": 1631346611060,
     "user": {
      "displayName": "ANDRE OMAR CHAVEZ PANDURO",
      "photoUrl": "https://lh3.googleusercontent.com/a-/AOh14GhhoQ1kbFXrI1LHS5aCbnzbQoTSVMlrpsL1-iED=s64",
      "userId": "14331399592622880507"
     },
     "user_tz": 300
    },
    "id": "aM_yUBr2S5PE"
   },
   "outputs": [],
   "source": [
    "# Seleccion por Random Forest\n",
    "TablaImportancia = pd.concat([pd.DataFrame({'Driver':list(df.drop(['DEFAULT'],axis=1).columns)}),\n",
    "                              pd.DataFrame({'Importancia':list(forest.feature_importances_)})], axis = 1)\n",
    "ImportanciaVariables = TablaImportancia[['Driver','Importancia']].sort_values('Importancia', ascending = False).reset_index(drop = True)\n",
    "ImportanciaVariables"
   ]
  },
  {
   "cell_type": "code",
   "execution_count": null,
   "metadata": {
    "executionInfo": {
     "elapsed": 278,
     "status": "ok",
     "timestamp": 1631346631732,
     "user": {
      "displayName": "ANDRE OMAR CHAVEZ PANDURO",
      "photoUrl": "https://lh3.googleusercontent.com/a-/AOh14GhhoQ1kbFXrI1LHS5aCbnzbQoTSVMlrpsL1-iED=s64",
      "userId": "14331399592622880507"
     },
     "user_tz": 300
    },
    "id": "ogCSFvELS5Pe"
   },
   "outputs": [],
   "source": [
    "# Seleccion Boruta (Permutaciones de arboles)\n",
    "from boruta import BorutaPy\n",
    "\n",
    "rfc = RandomForestClassifier(random_state=100)\n",
    "boruta_selector = BorutaPy(rfc,n_estimators='auto',\n",
    "                           perc = 50,alpha = 0.05,verbose=0,\n",
    "                           random_state=100)\n",
    "\n",
    "x=df.drop(['DEFAULT'],axis=1).values\n",
    "y=df.DEFAULT.values\n",
    "boruta_selector.fit(x,y)\n",
    "print (boruta_selector.n_features_)"
   ]
  },
  {
   "cell_type": "code",
   "execution_count": null,
   "metadata": {
    "executionInfo": {
     "elapsed": 580,
     "status": "ok",
     "timestamp": 1631346637566,
     "user": {
      "displayName": "ANDRE OMAR CHAVEZ PANDURO",
      "photoUrl": "https://lh3.googleusercontent.com/a-/AOh14GhhoQ1kbFXrI1LHS5aCbnzbQoTSVMlrpsL1-iED=s64",
      "userId": "14331399592622880507"
     },
     "user_tz": 300
    },
    "id": "eInTK4hAS5Pv"
   },
   "outputs": [],
   "source": [
    "# Ranking de las variables!\n",
    "feature_df = pd.DataFrame(df.drop(['DEFAULT'],axis=1).columns.tolist(), columns=['features'])\n",
    "feature_df['rank']=boruta_selector.ranking_\n",
    "feature_df = feature_df.sort_values('rank', ascending=True).reset_index(drop=True)\n",
    "print ('\\n Top %d features:' % boruta_selector.n_features_)\n",
    "print (feature_df.head(boruta_selector.n_features_))"
   ]
  },
  {
   "cell_type": "code",
   "execution_count": null,
   "metadata": {},
   "outputs": [],
   "source": [
    "# Regresion Logistica\n",
    "import statsmodels.api as sm\n",
    "logit_model=sm.Logit(df.DEFAULT,df.drop(['DEFAULT'],axis=1))\n",
    "result=logit_model.fit()\n",
    "print(result.summary2())"
   ]
  },
  {
   "cell_type": "code",
   "execution_count": null,
   "metadata": {},
   "outputs": [],
   "source": [
    "# Regresion Logistica Con Selección de Variables\n",
    "import statsmodels.api as sm\n",
    "logit_model=sm.Logit(df.DEFAULT,df[['EDUCATION_1','SEX','SUM_PAY_REC','PAY_1','AGE','LIMIT_BAL','STD_LBILL_TOT','CV_LPAY_TOT','CV_LBILL_TOT','STD_LPAY_TOT','CANT_PAY_MAY0','BILL_AMT1','RATE_PAY_BILL1','LOG_BILL_AMT1','AVG_LBILL_TOT','AVG_LPAY_TOT','STD_PAY_TOT']])\n",
    "result=logit_model.fit()\n",
    "print(result.summary2())"
   ]
  },
  {
   "cell_type": "code",
   "execution_count": null,
   "metadata": {},
   "outputs": [],
   "source": [
    "## Matriz de corelaciones\n",
    "cor_mat = df[['PAY_1','AGE','LIMIT_BAL','SUM_LPAY_REC','STD_LBILL_TOT','CV_LPAY_TOT','CV_LBILL_TOT','STD_LPAY_TOT','CANT_PAY_MAY0','BILL_AMT1','RATE_PAY_BILL1','LOG_BILL_AMT1','AVG_LBILL_TOT','AVG_LPAY_TOT','STD_PAY_TOT']].corr()\n",
    "mask = np.array(cor_mat)\n",
    "mask[np.tril_indices_from(mask)] = False\n",
    "fig = plt.gcf()\n",
    "fig.set_size_inches(30,12)\n",
    "sns.heatmap(data=cor_mat,mask=mask,square=True,annot=True,cbar=True)"
   ]
  },
  {
   "cell_type": "markdown",
   "metadata": {
    "id": "rjUqWwdNS5P2"
   },
   "source": [
    "### **5. Modelamiento de Datos o Creación del Algoritmo de ML**"
   ]
  },
  {
   "cell_type": "markdown",
   "metadata": {
    "id": "YN5ZjryQS5P4"
   },
   "source": [
    "#### 5.1. Particion Muestral"
   ]
  },
  {
   "cell_type": "code",
   "execution_count": null,
   "metadata": {
    "id": "HgZ_VZxOx7KT"
   },
   "outputs": [],
   "source": [
    "# Si deseamos seleccionar las variables, lo podemos hacer en este momento!"
   ]
  },
  {
   "cell_type": "code",
   "execution_count": null,
   "metadata": {},
   "outputs": [],
   "source": [
    "data = df[['EDUCATION_1','SEX','PAY_1','AGE','LIMIT_BAL','SUM_LPAY_REC','STD_LBILL_TOT','CV_LPAY_TOT','CV_LBILL_TOT','STD_LPAY_TOT','CANT_PAY_MAY0','BILL_AMT1','RATE_PAY_BILL1','LOG_BILL_AMT1','SUM_LBILL_REC','AVG_LBILL_TOT','AVG_LPAY_TOT','STD_PAY_TOT','DEFAULT']].sample(frac=0.9, random_state=1000)\n",
    "data_unseen = df[['EDUCATION_1','SEX','PAY_1','AGE','LIMIT_BAL','SUM_LPAY_REC','STD_LBILL_TOT','CV_LPAY_TOT','CV_LBILL_TOT','STD_LPAY_TOT','CANT_PAY_MAY0','BILL_AMT1','RATE_PAY_BILL1','LOG_BILL_AMT1','SUM_LBILL_REC','AVG_LBILL_TOT','AVG_LPAY_TOT','STD_PAY_TOT','DEFAULT']].drop(data.index)\n",
    "data.reset_index(inplace=True, drop=True)\n",
    "data_unseen.reset_index(inplace=True, drop=True)\n",
    "print('Data for Modeling: ' + str(data.shape))\n",
    "print('Unseen Data For Predictions: ' + str(data_unseen.shape))"
   ]
  },
  {
   "cell_type": "code",
   "execution_count": null,
   "metadata": {
    "executionInfo": {
     "elapsed": 326,
     "status": "ok",
     "timestamp": 1631345223162,
     "user": {
      "displayName": "ANDRE OMAR CHAVEZ PANDURO",
      "photoUrl": "https://lh3.googleusercontent.com/a-/AOh14GhhoQ1kbFXrI1LHS5aCbnzbQoTSVMlrpsL1-iED=s64",
      "userId": "14331399592622880507"
     },
     "user_tz": 300
    },
    "id": "SJYlsm09S5P-"
   },
   "outputs": [],
   "source": [
    "# Creación de los datos de train y test\n",
    "from sklearn.model_selection import train_test_split\n",
    "X_train, X_test, y_train, y_test = train_test_split(data.drop(['DEFAULT'],axis=1),\n",
    "                                                   data.DEFAULT,\n",
    "                                                   test_size=0.333,\n",
    "                                                   random_state=12345) "
   ]
  },
  {
   "cell_type": "markdown",
   "metadata": {
    "id": "jcy9Ahd_S5QG"
   },
   "source": [
    "#### 5.2. Algoritmos Machine Learning"
   ]
  },
  {
   "cell_type": "markdown",
   "metadata": {
    "id": "D0QXbFmhWsHb"
   },
   "source": [
    "### Regresion Logistica Binaria"
   ]
  },
  {
   "cell_type": "code",
   "execution_count": null,
   "metadata": {
    "executionInfo": {
     "elapsed": 9,
     "status": "ok",
     "timestamp": 1631345226016,
     "user": {
      "displayName": "ANDRE OMAR CHAVEZ PANDURO",
      "photoUrl": "https://lh3.googleusercontent.com/a-/AOh14GhhoQ1kbFXrI1LHS5aCbnzbQoTSVMlrpsL1-iED=s64",
      "userId": "14331399592622880507"
     },
     "user_tz": 300
    },
    "id": "wA9cWtSRWsKS"
   },
   "outputs": [],
   "source": [
    "from sklearn.linear_model import LogisticRegression\n",
    "lr = LogisticRegression()"
   ]
  },
  {
   "cell_type": "code",
   "execution_count": null,
   "metadata": {
    "executionInfo": {
     "elapsed": 283,
     "status": "ok",
     "timestamp": 1631346665289,
     "user": {
      "displayName": "ANDRE OMAR CHAVEZ PANDURO",
      "photoUrl": "https://lh3.googleusercontent.com/a-/AOh14GhhoQ1kbFXrI1LHS5aCbnzbQoTSVMlrpsL1-iED=s64",
      "userId": "14331399592622880507"
     },
     "user_tz": 300
    },
    "id": "mOAJ8SHOYKZE"
   },
   "outputs": [],
   "source": [
    "lr.fit(X_train,y_train) # Entrenamiento!"
   ]
  },
  {
   "cell_type": "code",
   "execution_count": null,
   "metadata": {
    "executionInfo": {
     "elapsed": 357,
     "status": "ok",
     "timestamp": 1631341849100,
     "user": {
      "displayName": "ANDRE OMAR CHAVEZ PANDURO",
      "photoUrl": "https://lh3.googleusercontent.com/a-/AOh14GhhoQ1kbFXrI1LHS5aCbnzbQoTSVMlrpsL1-iED=s64",
      "userId": "14331399592622880507"
     },
     "user_tz": 300
    },
    "id": "3mPP_a_-BOc8"
   },
   "outputs": [],
   "source": [
    "# Paso N°02: Con el algoritmo entrenado predecimos sobre la data de train y test!\n",
    "\n",
    "y_pred_train=lr.predict(X_train) # Prediccion sobre el train\n",
    "y_pred_test= lr.predict(X_test) # Prediccion sobre el test"
   ]
  },
  {
   "cell_type": "code",
   "execution_count": null,
   "metadata": {
    "executionInfo": {
     "elapsed": 263,
     "status": "ok",
     "timestamp": 1631346687509,
     "user": {
      "displayName": "ANDRE OMAR CHAVEZ PANDURO",
      "photoUrl": "https://lh3.googleusercontent.com/a-/AOh14GhhoQ1kbFXrI1LHS5aCbnzbQoTSVMlrpsL1-iED=s64",
      "userId": "14331399592622880507"
     },
     "user_tz": 300
    },
    "id": "2kJoWEzyBOiZ"
   },
   "outputs": [],
   "source": [
    "# Paso N°03: Revisamos las metricas de validacion técnicas adecuadas!\n",
    "from sklearn import metrics as metrics\n",
    "# Matriz de confusion\n",
    "print(\"Matriz confusion: Train\")\n",
    "cm_train = metrics.confusion_matrix(y_train,y_pred_train)\n",
    "print(cm_train)\n",
    "\n",
    "print(\"Matriz confusion: Test\")\n",
    "cm_test = metrics.confusion_matrix(y_test,y_pred_test)\n",
    "print(cm_test)\n",
    "\n",
    "# Accuracy\n",
    "print(\"Accuracy: Train\")\n",
    "accuracy_train=metrics.accuracy_score(y_train,y_pred_train)\n",
    "print(accuracy_train)\n",
    "\n",
    "print(\"Accuracy: Test\")\n",
    "accuracy_test=metrics.accuracy_score(y_test,y_pred_test)\n",
    "print(accuracy_test)\n",
    "\n",
    "# Precision o Aporte del Modelo\n",
    "print(\"Precision: Train\")\n",
    "precision_train=metrics.precision_score(y_train,y_pred_train)\n",
    "print(precision_train)\n",
    "\n",
    "print(\"Precision: Test\")\n",
    "precision_test=metrics.precision_score(y_test,y_pred_test)\n",
    "print(precision_test)\n",
    "\n",
    "# Recall o Sensibilidad \n",
    "print(\"Recall: Train\")\n",
    "recall_train=metrics.recall_score(y_train,y_pred_train)\n",
    "print(recall_train)\n",
    "\n",
    "print(\"Recall: Test\")\n",
    "recall_test=metrics.recall_score(y_test,y_pred_test)\n",
    "print(recall_test)"
   ]
  },
  {
   "cell_type": "code",
   "execution_count": null,
   "metadata": {},
   "outputs": [],
   "source": [
    "y_prob = lr.predict_proba(X_test)\n",
    "kds.metrics.report(y_test, y_prob[:,1],plot_style='ggplot')"
   ]
  },
  {
   "cell_type": "code",
   "execution_count": null,
   "metadata": {
    "id": "zd-ZSqsBBOnk"
   },
   "outputs": [],
   "source": [
    "# Juntamos el ID con la clase\n",
    "data = np.hstack((X_test['BILL_AMT1'].values.reshape(-1,1), y_prob[:,1].reshape(-1,1)))\n",
    "df_submmit = pd.DataFrame(data, columns=['Real','Proba'])\n",
    "df_submmit.to_csv('../data/lr_scoring.csv', index=False)"
   ]
  },
  {
   "cell_type": "markdown",
   "metadata": {},
   "source": [
    "### Arbol de Clasificacion CART"
   ]
  },
  {
   "cell_type": "code",
   "execution_count": null,
   "metadata": {
    "executionInfo": {
     "elapsed": 277,
     "status": "ok",
     "timestamp": 1631341897702,
     "user": {
      "displayName": "ANDRE OMAR CHAVEZ PANDURO",
      "photoUrl": "https://lh3.googleusercontent.com/a-/AOh14GhhoQ1kbFXrI1LHS5aCbnzbQoTSVMlrpsL1-iED=s64",
      "userId": "14331399592622880507"
     },
     "user_tz": 300
    },
    "id": "b2uhqVr4_C7w"
   },
   "outputs": [],
   "source": [
    "from sklearn.tree import DecisionTreeClassifier\n",
    "tree_expert = DecisionTreeClassifier(\n",
    "                       class_weight=None, \n",
    "                       criterion='gini',\n",
    "                       max_depth=2,   \n",
    "                       max_features=2,     \n",
    "                       max_leaf_nodes=None, \n",
    "                       min_samples_leaf=5, \n",
    "                       min_samples_split=5,\n",
    "                       min_weight_fraction_leaf=0.01, \n",
    "                       random_state=1000, \n",
    "                       splitter='best')"
   ]
  },
  {
   "cell_type": "code",
   "execution_count": null,
   "metadata": {
    "executionInfo": {
     "elapsed": 392,
     "status": "ok",
     "timestamp": 1631341904266,
     "user": {
      "displayName": "ANDRE OMAR CHAVEZ PANDURO",
      "photoUrl": "https://lh3.googleusercontent.com/a-/AOh14GhhoQ1kbFXrI1LHS5aCbnzbQoTSVMlrpsL1-iED=s64",
      "userId": "14331399592622880507"
     },
     "user_tz": 300
    },
    "id": "pgdWvZlTBumY"
   },
   "outputs": [],
   "source": [
    "# Entrenamos!\n",
    "tree_expert = tree_expert.fit(X_train,y_train) # ajustando el modelo a mis datos"
   ]
  },
  {
   "cell_type": "code",
   "execution_count": null,
   "metadata": {
    "executionInfo": {
     "elapsed": 271,
     "status": "ok",
     "timestamp": 1631341911130,
     "user": {
      "displayName": "ANDRE OMAR CHAVEZ PANDURO",
      "photoUrl": "https://lh3.googleusercontent.com/a-/AOh14GhhoQ1kbFXrI1LHS5aCbnzbQoTSVMlrpsL1-iED=s64",
      "userId": "14331399592622880507"
     },
     "user_tz": 300
    },
    "id": "APf2RjGhButx"
   },
   "outputs": [],
   "source": [
    "# Predecimos!\n",
    "Y_pred_train = tree_expert.predict(X_train) # realizando la predicción\n",
    "Y_pred_test  = tree_expert.predict(X_test) # realizando la predicción"
   ]
  },
  {
   "cell_type": "code",
   "execution_count": null,
   "metadata": {
    "executionInfo": {
     "elapsed": 334,
     "status": "ok",
     "timestamp": 1631346713863,
     "user": {
      "displayName": "ANDRE OMAR CHAVEZ PANDURO",
      "photoUrl": "https://lh3.googleusercontent.com/a-/AOh14GhhoQ1kbFXrI1LHS5aCbnzbQoTSVMlrpsL1-iED=s64",
      "userId": "14331399592622880507"
     },
     "user_tz": 300
    },
    "id": "WSfw-A8dCY4Y"
   },
   "outputs": [],
   "source": [
    "#Cálculo de los indicadores mas relevantes!\n",
    "from sklearn import metrics as metrics\n",
    "# Matriz de confusion\n",
    "print(\"Matriz confusion: Train\")\n",
    "cm_train = metrics.confusion_matrix(y_train,Y_pred_train)\n",
    "print(cm_train)\n",
    "\n",
    "print(\"Matriz confusion: Test\")\n",
    "cm_test = metrics.confusion_matrix(y_test,Y_pred_test)\n",
    "print(cm_test)\n",
    "\n",
    "# Accuracy\n",
    "print(\"Accuracy: Train\")\n",
    "accuracy_train=metrics.accuracy_score(y_train,Y_pred_train)\n",
    "print(accuracy_train)\n",
    "\n",
    "print(\"Accuracy: Test\")\n",
    "accuracy_test=metrics.accuracy_score(y_test,Y_pred_test)\n",
    "print(accuracy_test)\n",
    "\n",
    "# Precision\n",
    "print(\"Precision: Train\")\n",
    "precision_train=metrics.precision_score(y_train,Y_pred_train)\n",
    "print(precision_train)\n",
    "\n",
    "print(\"Precision: Test\")\n",
    "precision_test=metrics.precision_score(y_test,Y_pred_test)\n",
    "print(precision_test)\n",
    "\n",
    "# Recall\n",
    "print(\"Recall: Train\")\n",
    "recall_train=metrics.recall_score(y_train,Y_pred_train)\n",
    "print(recall_train)\n",
    "\n",
    "print(\"Recall: Test\")\n",
    "recall_test=metrics.recall_score(y_test,Y_pred_test)\n",
    "print(recall_test)"
   ]
  },
  {
   "cell_type": "code",
   "execution_count": null,
   "metadata": {},
   "outputs": [],
   "source": [
    "y_prob = tree_expert.predict_proba(X_test)\n",
    "kds.metrics.report(y_test, y_prob[:,1],plot_style='ggplot')"
   ]
  },
  {
   "cell_type": "code",
   "execution_count": null,
   "metadata": {},
   "outputs": [],
   "source": [
    "# Juntamos el ID con la clase\n",
    "data = np.hstack((X_test['BILL_AMT1'].values.reshape(-1,1), y_prob[:,1].reshape(-1,1)))\n",
    "df_submmit = pd.DataFrame(data, columns=['Monto','P_Aproba'])\n",
    "df_submmit.to_csv('../data/tree_scoring.csv', index=False)"
   ]
  },
  {
   "cell_type": "markdown",
   "metadata": {
    "id": "g9sZo4YOCY7H"
   },
   "source": [
    "### Algoritmo K-NN"
   ]
  },
  {
   "cell_type": "code",
   "execution_count": null,
   "metadata": {
    "executionInfo": {
     "elapsed": 279,
     "status": "ok",
     "timestamp": 1631345248546,
     "user": {
      "displayName": "ANDRE OMAR CHAVEZ PANDURO",
      "photoUrl": "https://lh3.googleusercontent.com/a-/AOh14GhhoQ1kbFXrI1LHS5aCbnzbQoTSVMlrpsL1-iED=s64",
      "userId": "14331399592622880507"
     },
     "user_tz": 300
    },
    "id": "hFbWtD0HlncS"
   },
   "outputs": [],
   "source": [
    "from sklearn.preprocessing import StandardScaler\n",
    "scaler = StandardScaler()\n",
    "scaler.fit(X_train)\n",
    "\n",
    "X_train_ss = scaler.transform(X_train)\n",
    "X_test_ss = scaler.transform(X_test)"
   ]
  },
  {
   "cell_type": "code",
   "execution_count": null,
   "metadata": {
    "executionInfo": {
     "elapsed": 272,
     "status": "ok",
     "timestamp": 1631346721455,
     "user": {
      "displayName": "ANDRE OMAR CHAVEZ PANDURO",
      "photoUrl": "https://lh3.googleusercontent.com/a-/AOh14GhhoQ1kbFXrI1LHS5aCbnzbQoTSVMlrpsL1-iED=s64",
      "userId": "14331399592622880507"
     },
     "user_tz": 300
    },
    "id": "EJnhi-iVkBJK"
   },
   "outputs": [],
   "source": [
    "from sklearn.neighbors import KNeighborsClassifier\n",
    "knn = KNeighborsClassifier(n_neighbors=10)\n",
    "knn.fit(X_train_ss, y_train)"
   ]
  },
  {
   "cell_type": "code",
   "execution_count": null,
   "metadata": {
    "executionInfo": {
     "elapsed": 272,
     "status": "ok",
     "timestamp": 1631345265134,
     "user": {
      "displayName": "ANDRE OMAR CHAVEZ PANDURO",
      "photoUrl": "https://lh3.googleusercontent.com/a-/AOh14GhhoQ1kbFXrI1LHS5aCbnzbQoTSVMlrpsL1-iED=s64",
      "userId": "14331399592622880507"
     },
     "user_tz": 300
    },
    "id": "zliq28yhlwIi"
   },
   "outputs": [],
   "source": [
    "# Predecimos!\n",
    "Y_pred_train = knn.predict(X_train_ss) # realizando la predicción\n",
    "Y_pred_test  = knn.predict(X_test_ss) # realizando la predicción"
   ]
  },
  {
   "cell_type": "code",
   "execution_count": null,
   "metadata": {
    "executionInfo": {
     "elapsed": 310,
     "status": "ok",
     "timestamp": 1631346730329,
     "user": {
      "displayName": "ANDRE OMAR CHAVEZ PANDURO",
      "photoUrl": "https://lh3.googleusercontent.com/a-/AOh14GhhoQ1kbFXrI1LHS5aCbnzbQoTSVMlrpsL1-iED=s64",
      "userId": "14331399592622880507"
     },
     "user_tz": 300
    },
    "id": "DWHno_PilwM0"
   },
   "outputs": [],
   "source": [
    "#Cálculo de los indicadores mas relevantes!\n",
    "from sklearn import metrics as metrics\n",
    "# Matriz de confusion\n",
    "print(\"Matriz confusion: Train\")\n",
    "cm_train = metrics.confusion_matrix(y_train,Y_pred_train)\n",
    "print(cm_train)\n",
    "\n",
    "print(\"Matriz confusion: Test\")\n",
    "cm_test = metrics.confusion_matrix(y_test,Y_pred_test)\n",
    "print(cm_test)\n",
    "\n",
    "# Accuracy\n",
    "print(\"Accuracy: Train\")\n",
    "accuracy_train=metrics.accuracy_score(y_train,Y_pred_train)\n",
    "print(accuracy_train)\n",
    "\n",
    "print(\"Accuracy: Test\")\n",
    "accuracy_test=metrics.accuracy_score(y_test,Y_pred_test)\n",
    "print(accuracy_test)\n",
    "\n",
    "# Precision\n",
    "print(\"Precision: Train\")\n",
    "precision_train=metrics.precision_score(y_train,Y_pred_train)\n",
    "print(precision_train)\n",
    "\n",
    "print(\"Precision: Test\")\n",
    "precision_test=metrics.precision_score(y_test,Y_pred_test)\n",
    "print(precision_test)\n",
    "\n",
    "# Recall\n",
    "print(\"Recall: Train\")\n",
    "recall_train=metrics.recall_score(y_train,Y_pred_train)\n",
    "print(recall_train)\n",
    "\n",
    "print(\"Recall: Test\")\n",
    "recall_test=metrics.recall_score(y_test,Y_pred_test)\n",
    "print(recall_test)"
   ]
  },
  {
   "cell_type": "code",
   "execution_count": null,
   "metadata": {
    "id": "rdkd85fil8CR"
   },
   "outputs": [],
   "source": [
    "y_prob = knn.predict_proba(X_test)\n",
    "kds.metrics.report(y_test, y_prob[:,1],plot_style='ggplot')"
   ]
  },
  {
   "cell_type": "code",
   "execution_count": null,
   "metadata": {},
   "outputs": [],
   "source": [
    "# Juntamos el ID con la clase\n",
    "data = np.hstack((X_test['BILL_AMT1'].values.reshape(-1,1), y_prob[:,1].reshape(-1,1)))\n",
    "df_submmit = pd.DataFrame(data, columns=['Monto','P_Aproba'])\n",
    "df_submmit.to_csv('../data/knn_scoring.csv', index=False)"
   ]
  },
  {
   "cell_type": "markdown",
   "metadata": {
    "id": "LFR0GP-ckBL9"
   },
   "source": [
    "### Algoritmo SVM"
   ]
  },
  {
   "cell_type": "code",
   "execution_count": null,
   "metadata": {
    "executionInfo": {
     "elapsed": 277,
     "status": "ok",
     "timestamp": 1631345283469,
     "user": {
      "displayName": "ANDRE OMAR CHAVEZ PANDURO",
      "photoUrl": "https://lh3.googleusercontent.com/a-/AOh14GhhoQ1kbFXrI1LHS5aCbnzbQoTSVMlrpsL1-iED=s64",
      "userId": "14331399592622880507"
     },
     "user_tz": 300
    },
    "id": "lt5mYlOCkBOb"
   },
   "outputs": [],
   "source": [
    "from sklearn.preprocessing import StandardScaler\n",
    "sc = StandardScaler().fit(X_train,)\n",
    "X_train_ss = sc.transform(X_train)\n",
    "X_test_ss = sc.transform(X_test)"
   ]
  },
  {
   "cell_type": "code",
   "execution_count": null,
   "metadata": {
    "executionInfo": {
     "elapsed": 284,
     "status": "ok",
     "timestamp": 1631346736465,
     "user": {
      "displayName": "ANDRE OMAR CHAVEZ PANDURO",
      "photoUrl": "https://lh3.googleusercontent.com/a-/AOh14GhhoQ1kbFXrI1LHS5aCbnzbQoTSVMlrpsL1-iED=s64",
      "userId": "14331399592622880507"
     },
     "user_tz": 300
    },
    "id": "f2A_Njx-oPKO"
   },
   "outputs": [],
   "source": [
    "from sklearn import svm\n",
    "svml = svm.SVC(kernel='linear', C=0.01, probability=True)\n",
    "svml.fit(X_train_ss, y_train)"
   ]
  },
  {
   "cell_type": "code",
   "execution_count": null,
   "metadata": {
    "executionInfo": {
     "elapsed": 595,
     "status": "ok",
     "timestamp": 1631345297581,
     "user": {
      "displayName": "ANDRE OMAR CHAVEZ PANDURO",
      "photoUrl": "https://lh3.googleusercontent.com/a-/AOh14GhhoQ1kbFXrI1LHS5aCbnzbQoTSVMlrpsL1-iED=s64",
      "userId": "14331399592622880507"
     },
     "user_tz": 300
    },
    "id": "3NnmoksloPMx"
   },
   "outputs": [],
   "source": [
    "# Predecimos!\n",
    "Y_pred_train = svml.predict(X_train_ss) # realizando la predicción\n",
    "Y_pred_test  = svml.predict(X_test_ss) # realizando la predicción"
   ]
  },
  {
   "cell_type": "code",
   "execution_count": null,
   "metadata": {
    "executionInfo": {
     "elapsed": 278,
     "status": "ok",
     "timestamp": 1631346743235,
     "user": {
      "displayName": "ANDRE OMAR CHAVEZ PANDURO",
      "photoUrl": "https://lh3.googleusercontent.com/a-/AOh14GhhoQ1kbFXrI1LHS5aCbnzbQoTSVMlrpsL1-iED=s64",
      "userId": "14331399592622880507"
     },
     "user_tz": 300
    },
    "id": "JVbWyonhoPQG"
   },
   "outputs": [],
   "source": [
    "#Cálculo de los indicadores mas relevantes!\n",
    "from sklearn import metrics as metrics\n",
    "# Matriz de confusion\n",
    "print(\"Matriz confusion: Train\")\n",
    "cm_train = metrics.confusion_matrix(y_train,Y_pred_train)\n",
    "print(cm_train)\n",
    "\n",
    "print(\"Matriz confusion: Test\")\n",
    "cm_test = metrics.confusion_matrix(y_test,Y_pred_test)\n",
    "print(cm_test)\n",
    "\n",
    "# Accuracy\n",
    "print(\"Accuracy: Train\")\n",
    "accuracy_train=metrics.accuracy_score(y_train,Y_pred_train)\n",
    "print(accuracy_train)\n",
    "\n",
    "print(\"Accuracy: Test\")\n",
    "accuracy_test=metrics.accuracy_score(y_test,Y_pred_test)\n",
    "print(accuracy_test)\n",
    "\n",
    "# Precision\n",
    "print(\"Precision: Train\")\n",
    "precision_train=metrics.precision_score(y_train,Y_pred_train)\n",
    "print(precision_train)\n",
    "\n",
    "print(\"Precision: Test\")\n",
    "precision_test=metrics.precision_score(y_test,Y_pred_test)\n",
    "print(precision_test)\n",
    "\n",
    "# Recall\n",
    "print(\"Recall: Train\")\n",
    "recall_train=metrics.recall_score(y_train,Y_pred_train)\n",
    "print(recall_train)\n",
    "\n",
    "print(\"Recall: Test\")\n",
    "recall_test=metrics.recall_score(y_test,Y_pred_test)\n",
    "print(recall_test)"
   ]
  },
  {
   "cell_type": "code",
   "execution_count": null,
   "metadata": {},
   "outputs": [],
   "source": [
    "y_prob = svml.predict_proba(X_test)\n",
    "kds.metrics.report(y_test, y_prob[:,1],plot_style='ggplot')"
   ]
  },
  {
   "cell_type": "code",
   "execution_count": null,
   "metadata": {},
   "outputs": [],
   "source": [
    "# Juntamos el ID con la clase\n",
    "data = np.hstack((X_test['BILL_AMT1'].values.reshape(-1,1), y_prob[:,1].reshape(-1,1)))\n",
    "df_submmit = pd.DataFrame(data, columns=['Monto','P_Aproba'])\n",
    "df_submmit.to_csv('../data/svm_scoring.csv', index=False)"
   ]
  },
  {
   "cell_type": "code",
   "execution_count": null,
   "metadata": {
    "id": "GtIey_bWoPVb"
   },
   "outputs": [],
   "source": []
  },
  {
   "cell_type": "code",
   "execution_count": null,
   "metadata": {
    "id": "Ewb4Q1u9epIy"
   },
   "outputs": [],
   "source": [
    "###########################\n",
    "######## BAGGING ##########\n",
    "###########################"
   ]
  },
  {
   "cell_type": "code",
   "execution_count": null,
   "metadata": {
    "executionInfo": {
     "elapsed": 458,
     "status": "ok",
     "timestamp": 1631346791352,
     "user": {
      "displayName": "ANDRE OMAR CHAVEZ PANDURO",
      "photoUrl": "https://lh3.googleusercontent.com/a-/AOh14GhhoQ1kbFXrI1LHS5aCbnzbQoTSVMlrpsL1-iED=s64",
      "userId": "14331399592622880507"
     },
     "user_tz": 300
    },
    "id": "Bo1lv0CHS5Rh"
   },
   "outputs": [],
   "source": [
    "## Modelos Supervisados : Random Forest ##\n",
    "from sklearn.ensemble import RandomForestClassifier\n",
    "rf = RandomForestClassifier(n_estimators=150,\n",
    "                            max_features= 1,\n",
    "                            max_depth=5\n",
    "                            ) # Numero de obs por nodo hoja\n",
    "rf.fit(X_train, y_train) # Entrenando un algoritmo"
   ]
  },
  {
   "cell_type": "code",
   "execution_count": null,
   "metadata": {
    "id": "0UVVdCAOkbVX"
   },
   "outputs": [],
   "source": []
  },
  {
   "cell_type": "code",
   "execution_count": null,
   "metadata": {
    "id": "d6txUy2BS5Rm"
   },
   "outputs": [],
   "source": [
    "# Predecir con el algoritmo entrenado para validar\n",
    "y_pred_train=rf.predict(X_train) # Prediccion sobre el train\n",
    "y_pred_test= rf.predict(X_test) # Prediccion sobre el test"
   ]
  },
  {
   "cell_type": "code",
   "execution_count": null,
   "metadata": {
    "id": "I_4Oa-0tkbtf"
   },
   "outputs": [],
   "source": []
  },
  {
   "cell_type": "code",
   "execution_count": null,
   "metadata": {
    "executionInfo": {
     "elapsed": 279,
     "status": "ok",
     "timestamp": 1631346799360,
     "user": {
      "displayName": "ANDRE OMAR CHAVEZ PANDURO",
      "photoUrl": "https://lh3.googleusercontent.com/a-/AOh14GhhoQ1kbFXrI1LHS5aCbnzbQoTSVMlrpsL1-iED=s64",
      "userId": "14331399592622880507"
     },
     "user_tz": 300
    },
    "id": "Gx2eqfr5S5Rs"
   },
   "outputs": [],
   "source": [
    "# Comparar el valor pronosticado con el valor real\n",
    "from sklearn import metrics as metrics\n",
    "# Matriz de confusion\n",
    "print(\"Matriz confusion: Train\")\n",
    "cm_train = metrics.confusion_matrix(y_train,y_pred_train)\n",
    "print(cm_train)\n",
    "\n",
    "print(\"Matriz confusion: Test\")\n",
    "cm_test = metrics.confusion_matrix(y_test,y_pred_test)\n",
    "print(cm_test)\n",
    "\n",
    "# Accuracy\n",
    "print(\"Accuracy: Train\")\n",
    "accuracy_train=metrics.accuracy_score(y_train,y_pred_train)\n",
    "print(accuracy_train)\n",
    "\n",
    "print(\"Accuracy: Test\")\n",
    "accuracy_test=metrics.accuracy_score(y_test,y_pred_test)\n",
    "print(accuracy_test)\n",
    "\n",
    "# Precision\n",
    "print(\"Precision: Train\")\n",
    "precision_train=metrics.precision_score(y_train,y_pred_train)\n",
    "print(precision_train)\n",
    "\n",
    "print(\"Precision: Test\")\n",
    "precision_test=metrics.precision_score(y_test,y_pred_test)\n",
    "print(precision_test)\n",
    "\n",
    "# Recall\n",
    "print(\"Recall: Train\")\n",
    "recall_train=metrics.recall_score(y_train,y_pred_train)\n",
    "print(recall_train)\n",
    "\n",
    "print(\"Recall: Test\")\n",
    "recall_test=metrics.recall_score(y_test,y_pred_test)\n",
    "print(recall_test)"
   ]
  },
  {
   "cell_type": "code",
   "execution_count": null,
   "metadata": {},
   "outputs": [],
   "source": [
    "y_prob = rf.predict_proba(X_test)\n",
    "kds.metrics.report(y_test, y_prob[:,1],plot_style='ggplot')"
   ]
  },
  {
   "cell_type": "code",
   "execution_count": null,
   "metadata": {},
   "outputs": [],
   "source": [
    "# Juntamos el ID con la clase\n",
    "data = np.hstack((X_test['BILL_AMT1'].values.reshape(-1,1), y_prob[:,1].reshape(-1,1)))\n",
    "df_submmit = pd.DataFrame(data, columns=['Monto','P_Aproba'])\n",
    "df_submmit.to_csv('../data/rf_scoring.csv', index=False)"
   ]
  },
  {
   "cell_type": "markdown",
   "metadata": {},
   "source": [
    "### AdaBoost"
   ]
  },
  {
   "cell_type": "code",
   "execution_count": null,
   "metadata": {
    "executionInfo": {
     "elapsed": 277,
     "status": "ok",
     "timestamp": 1631346806094,
     "user": {
      "displayName": "ANDRE OMAR CHAVEZ PANDURO",
      "photoUrl": "https://lh3.googleusercontent.com/a-/AOh14GhhoQ1kbFXrI1LHS5aCbnzbQoTSVMlrpsL1-iED=s64",
      "userId": "14331399592622880507"
     },
     "user_tz": 300
    },
    "id": "b_N-4I1oS5Rz"
   },
   "outputs": [],
   "source": [
    "from sklearn.ensemble import AdaBoostClassifier  # Paso01: Instancio\n",
    "AdaBoost=AdaBoostClassifier(learning_rate=0.001, \n",
    "                            n_estimators=150) # Paso02: Especifico\n",
    "AdaBoost.fit(X_train, y_train)                   # Paso03: Entrenamiento algoritmo"
   ]
  },
  {
   "cell_type": "code",
   "execution_count": null,
   "metadata": {
    "id": "kWfqCokHS5R2"
   },
   "outputs": [],
   "source": [
    "# Predecir con el algoritmo entrenado para validar\n",
    "y_pred_train=AdaBoost.predict(X_train) # Prediccion sobre el train\n",
    "y_pred_test= AdaBoost.predict(X_test) # Prediccion sobre el test"
   ]
  },
  {
   "cell_type": "code",
   "execution_count": null,
   "metadata": {
    "executionInfo": {
     "elapsed": 268,
     "status": "ok",
     "timestamp": 1631346813395,
     "user": {
      "displayName": "ANDRE OMAR CHAVEZ PANDURO",
      "photoUrl": "https://lh3.googleusercontent.com/a-/AOh14GhhoQ1kbFXrI1LHS5aCbnzbQoTSVMlrpsL1-iED=s64",
      "userId": "14331399592622880507"
     },
     "user_tz": 300
    },
    "id": "yvmLQZCVS5R5"
   },
   "outputs": [],
   "source": [
    "# Comparar el valor pronosticado con el valor real\n",
    "from sklearn import metrics as metrics\n",
    "# Matriz de confusion\n",
    "print(\"Matriz confusion: Train\")\n",
    "cm_train = metrics.confusion_matrix(y_train,y_pred_train)\n",
    "print(cm_train)\n",
    "\n",
    "print(\"Matriz confusion: Test\")\n",
    "cm_test = metrics.confusion_matrix(y_test,y_pred_test)\n",
    "print(cm_test)\n",
    "\n",
    "# Accuracy\n",
    "print(\"Accuracy: Train\")\n",
    "accuracy_train=metrics.accuracy_score(y_train,y_pred_train)\n",
    "print(accuracy_train)\n",
    "\n",
    "print(\"Accuracy: Test\")\n",
    "accuracy_test=metrics.accuracy_score(y_test,y_pred_test)\n",
    "print(accuracy_test)\n",
    "\n",
    "# Precision\n",
    "print(\"Precision: Train\")\n",
    "precision_train=metrics.precision_score(y_train,y_pred_train)\n",
    "print(precision_train)\n",
    "\n",
    "print(\"Precision: Test\")\n",
    "precision_test=metrics.precision_score(y_test,y_pred_test)\n",
    "print(precision_test)\n",
    "\n",
    "# Recall\n",
    "print(\"Recall: Train\")\n",
    "recall_train=metrics.recall_score(y_train,y_pred_train)\n",
    "print(recall_train)\n",
    "\n",
    "print(\"Recall: Test\")\n",
    "recall_test=metrics.recall_score(y_test,y_pred_test)\n",
    "print(recall_test)"
   ]
  },
  {
   "cell_type": "code",
   "execution_count": null,
   "metadata": {},
   "outputs": [],
   "source": [
    "y_prob = AdaBoost.predict_proba(X_test)\n",
    "kds.metrics.report(y_test, y_prob[:,1],plot_style='ggplot')"
   ]
  },
  {
   "cell_type": "code",
   "execution_count": null,
   "metadata": {},
   "outputs": [],
   "source": [
    "# Juntamos el ID con la clase\n",
    "data = np.hstack((X_test['BILL_AMT1'].values.reshape(-1,1), y_prob[:,1].reshape(-1,1)))\n",
    "df_submmit = pd.DataFrame(data, columns=['Monto','P_Aproba'])\n",
    "df_submmit.to_csv('../data/adaboost_scoring.csv', index=False)"
   ]
  },
  {
   "cell_type": "markdown",
   "metadata": {
    "id": "AOQlbpMJlQpn"
   },
   "source": [
    "### XGBoost"
   ]
  },
  {
   "cell_type": "code",
   "execution_count": null,
   "metadata": {
    "executionInfo": {
     "elapsed": 270,
     "status": "ok",
     "timestamp": 1631346822782,
     "user": {
      "displayName": "ANDRE OMAR CHAVEZ PANDURO",
      "photoUrl": "https://lh3.googleusercontent.com/a-/AOh14GhhoQ1kbFXrI1LHS5aCbnzbQoTSVMlrpsL1-iED=s64",
      "userId": "14331399592622880507"
     },
     "user_tz": 300
    },
    "id": "F0S24xXQfJ78"
   },
   "outputs": [],
   "source": [
    "# Definir la matriz XGB\n",
    "import xgboost as xgb\n",
    "\n",
    "# Configuramos los datasets\n",
    "dtrain =  xgb.DMatrix(data=X_train, label = y_train)\n",
    "dtest   = xgb.DMatrix(data=X_test,   label = y_test)"
   ]
  },
  {
   "cell_type": "code",
   "execution_count": null,
   "metadata": {
    "id": "f0RmRfqbfQKO"
   },
   "outputs": [],
   "source": [
    "# Configurar parametros\n",
    "xgb_params = {\n",
    "    \"objective\": \"reg:logistic\", # Objetivo del negocio!\n",
    "    \"eta\": 0.001,\n",
    "    \"max_depth\": 2,\n",
    "    \"early_stopping_rounds\":  50,\n",
    "    \"gamma\": 0.1,\n",
    "    \"print_every_n\": 50\n",
    "}\n",
    "num_rounds = 60"
   ]
  },
  {
   "cell_type": "code",
   "execution_count": null,
   "metadata": {
    "executionInfo": {
     "elapsed": 288,
     "status": "ok",
     "timestamp": 1631346828448,
     "user": {
      "displayName": "ANDRE OMAR CHAVEZ PANDURO",
      "photoUrl": "https://lh3.googleusercontent.com/a-/AOh14GhhoQ1kbFXrI1LHS5aCbnzbQoTSVMlrpsL1-iED=s64",
      "userId": "14331399592622880507"
     },
     "user_tz": 300
    },
    "id": "HFGQ61p1kxV-"
   },
   "outputs": [],
   "source": [
    "# Ejecutamos el algoritmo! \n",
    "watch_list  = [(dtrain,'train'),(dtest,'test')] # Hacen un listado de los datos\n",
    "xgb_fit = xgb.train(xgb_params, dtrain, num_rounds, watch_list) # Entrenamiento del algoritmo"
   ]
  },
  {
   "cell_type": "code",
   "execution_count": null,
   "metadata": {
    "executionInfo": {
     "elapsed": 294,
     "status": "ok",
     "timestamp": 1631346838434,
     "user": {
      "displayName": "ANDRE OMAR CHAVEZ PANDURO",
      "photoUrl": "https://lh3.googleusercontent.com/a-/AOh14GhhoQ1kbFXrI1LHS5aCbnzbQoTSVMlrpsL1-iED=s64",
      "userId": "14331399592622880507"
     },
     "user_tz": 300
    },
    "id": "2fMOBOZpfQUF"
   },
   "outputs": [],
   "source": [
    "# Importancia de Variables\n",
    "xgb.plot_importance(xgb_fit,importance_type='gain')"
   ]
  },
  {
   "cell_type": "code",
   "execution_count": null,
   "metadata": {},
   "outputs": [],
   "source": [
    "best_iter = xgb_fit.best_iteration"
   ]
  },
  {
   "cell_type": "code",
   "execution_count": null,
   "metadata": {},
   "outputs": [],
   "source": [
    "# Predecir con el algoritmo entrenado para validar\n",
    "pred_train=xgb_fit.predict(dtrain, iteration_range=(0, best_iter)) # Prediccion sobre el train\n",
    "pred_test= xgb_fit.predict(dtest, iteration_range=(0, best_iter)) # Prediccion sobre el test\n",
    "y_pred_train = [1 if i > .5 else 0 for i in pred_train]\n",
    "y_pred_test = [1 if i > .5 else 0 for i in pred_test]"
   ]
  },
  {
   "cell_type": "code",
   "execution_count": null,
   "metadata": {},
   "outputs": [],
   "source": [
    "# Comparar el valor pronosticado con el valor real\n",
    "from sklearn import metrics as metrics\n",
    "# Matriz de confusion\n",
    "print(\"Matriz confusion: Train\")\n",
    "cm_train = metrics.confusion_matrix(y_train,y_pred_train)\n",
    "print(cm_train)\n",
    "\n",
    "print(\"Matriz confusion: Test\")\n",
    "cm_test = metrics.confusion_matrix(y_test,y_pred_test)\n",
    "print(cm_test)\n",
    "\n",
    "# Accuracy\n",
    "print(\"Accuracy: Train\")\n",
    "accuracy_train=metrics.accuracy_score(y_train,y_pred_train)\n",
    "print(accuracy_train)\n",
    "\n",
    "print(\"Accuracy: Test\")\n",
    "accuracy_test=metrics.accuracy_score(y_test,y_pred_test)\n",
    "print(accuracy_test)\n",
    "\n",
    "# Precision\n",
    "print(\"Precision: Train\")\n",
    "precision_train=metrics.precision_score(y_train,y_pred_train)\n",
    "print(precision_train)\n",
    "\n",
    "print(\"Precision: Test\")\n",
    "precision_test=metrics.precision_score(y_test,y_pred_test)\n",
    "print(precision_test)\n",
    "\n",
    "# Recall\n",
    "print(\"Recall: Train\")\n",
    "recall_train=metrics.recall_score(y_train,y_pred_train)\n",
    "print(recall_train)\n",
    "\n",
    "print(\"Recall: Test\")\n",
    "recall_test=metrics.recall_score(y_test,y_pred_test)\n",
    "print(recall_test)"
   ]
  },
  {
   "cell_type": "code",
   "execution_count": null,
   "metadata": {},
   "outputs": [],
   "source": [
    "kds.metrics.report(y_test, pred_test,plot_style='ggplot')"
   ]
  },
  {
   "cell_type": "code",
   "execution_count": null,
   "metadata": {},
   "outputs": [],
   "source": [
    "# Juntamos el ID con la clase\n",
    "data = np.hstack((X_test['BILL_AMT1'].values.reshape(-1,1), pred_test.reshape(-1,1)))\n",
    "df_submmit = pd.DataFrame(data, columns=['Monto','P_Aproba'])\n",
    "df_submmit.to_csv('../data/xgb_scoring.csv', index=False)"
   ]
  },
  {
   "cell_type": "markdown",
   "metadata": {
    "id": "5xagrqBGlVyu"
   },
   "source": [
    "### LightGBM"
   ]
  },
  {
   "cell_type": "code",
   "execution_count": null,
   "metadata": {
    "executionInfo": {
     "elapsed": 8,
     "status": "ok",
     "timestamp": 1631346848440,
     "user": {
      "displayName": "ANDRE OMAR CHAVEZ PANDURO",
      "photoUrl": "https://lh3.googleusercontent.com/a-/AOh14GhhoQ1kbFXrI1LHS5aCbnzbQoTSVMlrpsL1-iED=s64",
      "userId": "14331399592622880507"
     },
     "user_tz": 300
    },
    "id": "3J5Fv-EzgSDc"
   },
   "outputs": [],
   "source": [
    "import lightgbm as lgb\n",
    "\n",
    "dtrain = lgb.Dataset(X_train, label=y_train)\n",
    "dtest =  lgb.Dataset(X_test,  label=y_test, reference=dtrain)"
   ]
  },
  {
   "cell_type": "code",
   "execution_count": null,
   "metadata": {
    "id": "viKXMeTigW6U"
   },
   "outputs": [],
   "source": [
    "# Configurar parametros\n",
    "params = {\n",
    "        'task':'train', \n",
    "        'is_unbalance': False, \n",
    "        'max_depth':2,\n",
    "        'max_bin': 10, \n",
    "        'boosting_type': 'gbdt',\n",
    "        'objective': 'binary',\n",
    "        'min_child_weight': 10,\n",
    "        'metric': 'auc',\n",
    "        'num_leaves': 4,\n",
    "        'learning_rate': 0.001,\n",
    "        'feature_fraction': 0.8,\n",
    "        'bagging_fraction': 0.8,\n",
    "        'bagging_freq': 10,\n",
    "        'verbose': 0,\n",
    "        'seed ':1000\n",
    "}"
   ]
  },
  {
   "cell_type": "code",
   "execution_count": null,
   "metadata": {
    "executionInfo": {
     "elapsed": 293,
     "status": "ok",
     "timestamp": 1631346853529,
     "user": {
      "displayName": "ANDRE OMAR CHAVEZ PANDURO",
      "photoUrl": "https://lh3.googleusercontent.com/a-/AOh14GhhoQ1kbFXrI1LHS5aCbnzbQoTSVMlrpsL1-iED=s64",
      "userId": "14331399592622880507"
     },
     "user_tz": 300
    },
    "id": "eBmlIhBggW8n"
   },
   "outputs": [],
   "source": [
    "# Ejecutamos el algoritmo!\n",
    "gbm = lgb.train(params,\n",
    "                dtrain,\n",
    "                num_boost_round=1200,\n",
    "                valid_sets=[dtrain,dtest],\n",
    "                early_stopping_rounds=50)"
   ]
  },
  {
   "cell_type": "code",
   "execution_count": null,
   "metadata": {},
   "outputs": [],
   "source": [
    "# Predecimos con el algoritmo entrenado sobre el test y evaluamos\n",
    "y_prob_train=gbm.predict(X_train)\n",
    "y_prob=gbm.predict(X_test)\n",
    "y_pred_train = [1 if i > .25 else 0 for i in y_prob_train]\n",
    "y_pred_test = [1 if i > .25 else 0 for i in y_prob]"
   ]
  },
  {
   "cell_type": "code",
   "execution_count": null,
   "metadata": {},
   "outputs": [],
   "source": [
    "# Comparar el valor pronosticado con el valor real\n",
    "from sklearn import metrics as metrics\n",
    "# Matriz de confusion\n",
    "print(\"Matriz confusion: Train\")\n",
    "cm_train = metrics.confusion_matrix(y_train,y_pred_train)\n",
    "print(cm_train)\n",
    "\n",
    "print(\"Matriz confusion: Test\")\n",
    "cm_test = metrics.confusion_matrix(y_test,y_pred_test)\n",
    "print(cm_test)\n",
    "\n",
    "# Accuracy\n",
    "print(\"Accuracy: Train\")\n",
    "accuracy_train=metrics.accuracy_score(y_train,y_pred_train)\n",
    "print(accuracy_train)\n",
    "\n",
    "print(\"Accuracy: Test\")\n",
    "accuracy_test=metrics.accuracy_score(y_test,y_pred_test)\n",
    "print(accuracy_test)\n",
    "\n",
    "# Precision\n",
    "print(\"Precision: Train\")\n",
    "precision_train=metrics.precision_score(y_train,y_pred_train)\n",
    "print(precision_train)\n",
    "\n",
    "print(\"Precision: Test\")\n",
    "precision_test=metrics.precision_score(y_test,y_pred_test)\n",
    "print(precision_test)\n",
    "\n",
    "# Recall\n",
    "print(\"Recall: Train\")\n",
    "recall_train=metrics.recall_score(y_train,y_pred_train)\n",
    "print(recall_train)\n",
    "\n",
    "print(\"Recall: Test\")\n",
    "recall_test=metrics.recall_score(y_test,y_pred_test)\n",
    "print(recall_test)"
   ]
  },
  {
   "cell_type": "code",
   "execution_count": null,
   "metadata": {},
   "outputs": [],
   "source": [
    "kds.metrics.report(y_test, y_prob,plot_style='ggplot')"
   ]
  },
  {
   "cell_type": "code",
   "execution_count": null,
   "metadata": {},
   "outputs": [],
   "source": [
    "# Juntamos el ID con la clase\n",
    "data = np.hstack((X_test['BILL_AMT1'].values.reshape(-1,1), y_prob.reshape(-1,1)))\n",
    "df_submmit = pd.DataFrame(data, columns=['Monto','P_Aproba'])\n",
    "df_submmit.to_csv('../data/lgb_scoring.csv', index=False)"
   ]
  },
  {
   "cell_type": "markdown",
   "metadata": {
    "id": "Gxxna4nLll9A"
   },
   "source": [
    "### CatBoost"
   ]
  },
  {
   "cell_type": "code",
   "execution_count": null,
   "metadata": {
    "id": "_eDTiVXvgphV"
   },
   "outputs": [],
   "source": [
    "from catboost import CatBoostClassifier\n",
    "# Definimos el clasificador\n",
    "CatBoost=CatBoostClassifier(eval_metric=\"AUC\",\n",
    "                            one_hot_max_size=20,\n",
    "                            depth=2, \n",
    "                            iterations= 800, \n",
    "                            l2_leaf_reg= 2, \n",
    "                            learning_rate= 0.0001)"
   ]
  },
  {
   "cell_type": "code",
   "execution_count": null,
   "metadata": {
    "id": "uvgyrjgpgplj"
   },
   "outputs": [],
   "source": []
  },
  {
   "cell_type": "code",
   "execution_count": null,
   "metadata": {
    "executionInfo": {
     "elapsed": 306,
     "status": "ok",
     "timestamp": 1631346867619,
     "user": {
      "displayName": "ANDRE OMAR CHAVEZ PANDURO",
      "photoUrl": "https://lh3.googleusercontent.com/a-/AOh14GhhoQ1kbFXrI1LHS5aCbnzbQoTSVMlrpsL1-iED=s64",
      "userId": "14331399592622880507"
     },
     "user_tz": 300
    },
    "id": "T2T5oACegpn9"
   },
   "outputs": [],
   "source": [
    "# Ajustamos un modelo de clasificación\n",
    "Cat=CatBoost.fit(X_train,y_train)"
   ]
  },
  {
   "cell_type": "code",
   "execution_count": null,
   "metadata": {
    "id": "virXZMhpgpsb"
   },
   "outputs": [],
   "source": [
    "# Predecimos con el algoritmo entrenado sobre el test y evaluamos\n",
    "y_pred_train=Cat.predict(X_train)\n",
    "y_pred_test=Cat.predict(X_test)"
   ]
  },
  {
   "cell_type": "code",
   "execution_count": null,
   "metadata": {
    "executionInfo": {
     "elapsed": 290,
     "status": "ok",
     "timestamp": 1631346875874,
     "user": {
      "displayName": "ANDRE OMAR CHAVEZ PANDURO",
      "photoUrl": "https://lh3.googleusercontent.com/a-/AOh14GhhoQ1kbFXrI1LHS5aCbnzbQoTSVMlrpsL1-iED=s64",
      "userId": "14331399592622880507"
     },
     "user_tz": 300
    },
    "id": "Ze0sS_fkg2iV"
   },
   "outputs": [],
   "source": [
    "# Comparar el valor pronosticado con el valor real\n",
    "from sklearn import metrics as metrics\n",
    "# Matriz de confusion\n",
    "print(\"Matriz confusion: Train\")\n",
    "cm_train = metrics.confusion_matrix(y_train,y_pred_train)\n",
    "print(cm_train)\n",
    "\n",
    "print(\"Matriz confusion: Test\")\n",
    "cm_test = metrics.confusion_matrix(y_test,y_pred_test)\n",
    "print(cm_test)\n",
    "\n",
    "# Accuracy\n",
    "print(\"Accuracy: Train\")\n",
    "accuracy_train=metrics.accuracy_score(y_train,y_pred_train)\n",
    "print(accuracy_train)\n",
    "\n",
    "print(\"Accuracy: Test\")\n",
    "accuracy_test=metrics.accuracy_score(y_test,y_pred_test)\n",
    "print(accuracy_test)\n",
    "\n",
    "# Precision\n",
    "print(\"Precision: Train\")\n",
    "precision_train=metrics.precision_score(y_train,y_pred_train)\n",
    "print(precision_train)\n",
    "\n",
    "print(\"Precision: Test\")\n",
    "precision_test=metrics.precision_score(y_test,y_pred_test)\n",
    "print(precision_test)\n",
    "\n",
    "# Recall\n",
    "print(\"Recall: Train\")\n",
    "recall_train=metrics.recall_score(y_train,y_pred_train)\n",
    "print(recall_train)\n",
    "\n",
    "print(\"Recall: Test\")\n",
    "recall_test=metrics.recall_score(y_test,y_pred_test)\n",
    "print(recall_test)"
   ]
  },
  {
   "cell_type": "code",
   "execution_count": null,
   "metadata": {},
   "outputs": [],
   "source": [
    "y_prob = Cat.predict_proba(X_test)\n",
    "kds.metrics.report(y_test, y_prob[:,1],plot_style='ggplot')"
   ]
  },
  {
   "cell_type": "code",
   "execution_count": null,
   "metadata": {},
   "outputs": [],
   "source": [
    "# Juntamos el ID con la clase\n",
    "data = np.hstack((X_test['BILL_AMT1'].values.reshape(-1,1), y_prob[:,1].reshape(-1,1)))\n",
    "df_submmit = pd.DataFrame(data, columns=['Monto','P_Aproba'])\n",
    "df_submmit.to_csv('../data/cat_scoring.csv', index=False)"
   ]
  },
  {
   "cell_type": "code",
   "execution_count": null,
   "metadata": {
    "id": "kuGWdc9Ig2lL"
   },
   "outputs": [],
   "source": []
  },
  {
   "cell_type": "markdown",
   "metadata": {
    "id": "fxof8GNUg2nb"
   },
   "source": [
    "### Grid Search de Paramatros!"
   ]
  },
  {
   "cell_type": "code",
   "execution_count": null,
   "metadata": {
    "id": "izRpKWGcg2pi"
   },
   "outputs": [],
   "source": [
    "# Definimos la funcion de GridSearch\n",
    "from sklearn.model_selection import GridSearchCV         # Busqueda exhaustiva de la mejor combinacion\n",
    "from sklearn.model_selection import RandomizedSearchCV   # Busqueda aleatoria de la mejor combinacion\n",
    "from scipy.stats import randint as sp_randint"
   ]
  },
  {
   "cell_type": "code",
   "execution_count": null,
   "metadata": {
    "id": "oSqR9QFdg2tu"
   },
   "outputs": [],
   "source": [
    "# Configuramos el subset de parametros a trabajar\n",
    "cv_params = {'max_depth': [2,3,5,7],\n",
    "            'subsample':[0.5,0.6,0.7,0.8],\n",
    "             'n_estimators':[100,300,500,700]}"
   ]
  },
  {
   "cell_type": "code",
   "execution_count": null,
   "metadata": {
    "id": "1O6WtgcOhR58"
   },
   "outputs": [],
   "source": [
    "# Definimos un clasificador inicial, generalmente sin muchos parametros\n",
    "xgboost_t=xgb.XGBClassifier().fit(X_train, y_train)"
   ]
  },
  {
   "cell_type": "code",
   "execution_count": null,
   "metadata": {
    "id": "V6ML9NuRhR_B"
   },
   "outputs": [],
   "source": [
    "# Con el clasificador inicial, tratamos de buscar los mejores parametros\n",
    "optimized_GBM = RandomizedSearchCV(xgboost_t, cv_params, scoring = 'accuracy', cv = 5) "
   ]
  },
  {
   "cell_type": "code",
   "execution_count": null,
   "metadata": {
    "executionInfo": {
     "elapsed": 326,
     "status": "ok",
     "timestamp": 1631346883728,
     "user": {
      "displayName": "ANDRE OMAR CHAVEZ PANDURO",
      "photoUrl": "https://lh3.googleusercontent.com/a-/AOh14GhhoQ1kbFXrI1LHS5aCbnzbQoTSVMlrpsL1-iED=s64",
      "userId": "14331399592622880507"
     },
     "user_tz": 300
    },
    "id": "N30WiM_EhSBc"
   },
   "outputs": [],
   "source": [
    "# Buscamos los parametros de acuerdo a nuestro criterio\n",
    "opGBM=optimized_GBM.fit(X_train, y_train)"
   ]
  },
  {
   "cell_type": "code",
   "execution_count": null,
   "metadata": {
    "executionInfo": {
     "elapsed": 255,
     "status": "ok",
     "timestamp": 1631346889498,
     "user": {
      "displayName": "ANDRE OMAR CHAVEZ PANDURO",
      "photoUrl": "https://lh3.googleusercontent.com/a-/AOh14GhhoQ1kbFXrI1LHS5aCbnzbQoTSVMlrpsL1-iED=s64",
      "userId": "14331399592622880507"
     },
     "user_tz": 300
    },
    "id": "h4nPYShLg2v3"
   },
   "outputs": [],
   "source": [
    "# De acuerdo a la busqueda , nos quedamos con los mejores parametros \n",
    "print (optimized_GBM.best_params_)"
   ]
  },
  {
   "cell_type": "code",
   "execution_count": null,
   "metadata": {},
   "outputs": [],
   "source": [
    "# Predecimos con el algoritmo entrenado sobre el test y evaluamos\n",
    "y_pred_train=opGBM.predict(X_train)\n",
    "y_pred_test=opGBM.predict(X_test)"
   ]
  },
  {
   "cell_type": "code",
   "execution_count": null,
   "metadata": {},
   "outputs": [],
   "source": [
    "# Comparar el valor pronosticado con el valor real\n",
    "from sklearn import metrics as metrics\n",
    "# Matriz de confusion\n",
    "print(\"Matriz confusion: Train\")\n",
    "cm_train = metrics.confusion_matrix(y_train,y_pred_train)\n",
    "print(cm_train)\n",
    "\n",
    "print(\"Matriz confusion: Test\")\n",
    "cm_test = metrics.confusion_matrix(y_test,y_pred_test)\n",
    "print(cm_test)\n",
    "\n",
    "# Accuracy\n",
    "print(\"Accuracy: Train\")\n",
    "accuracy_train=metrics.accuracy_score(y_train,y_pred_train)\n",
    "print(accuracy_train)\n",
    "\n",
    "print(\"Accuracy: Test\")\n",
    "accuracy_test=metrics.accuracy_score(y_test,y_pred_test)\n",
    "print(accuracy_test)\n",
    "\n",
    "# Precision\n",
    "print(\"Precision: Train\")\n",
    "precision_train=metrics.precision_score(y_train,y_pred_train)\n",
    "print(precision_train)\n",
    "\n",
    "print(\"Precision: Test\")\n",
    "precision_test=metrics.precision_score(y_test,y_pred_test)\n",
    "print(precision_test)\n",
    "\n",
    "# Recall\n",
    "print(\"Recall: Train\")\n",
    "recall_train=metrics.recall_score(y_train,y_pred_train)\n",
    "print(recall_train)\n",
    "\n",
    "print(\"Recall: Test\")\n",
    "recall_test=metrics.recall_score(y_test,y_pred_test)\n",
    "print(recall_test)"
   ]
  },
  {
   "cell_type": "code",
   "execution_count": null,
   "metadata": {},
   "outputs": [],
   "source": [
    "y_prob = opGBM.predict_proba(X_test)\n",
    "kds.metrics.report(y_test, y_prob[:,1],plot_style='ggplot')"
   ]
  },
  {
   "cell_type": "code",
   "execution_count": null,
   "metadata": {},
   "outputs": [],
   "source": [
    "# Juntamos el ID con la clase\n",
    "data = np.hstack((X_test['BILL_AMT1'].values.reshape(-1,1), y_prob[:,1].reshape(-1,1)))\n",
    "df_submmit = pd.DataFrame(data, columns=['Monto','P_Aproba'])\n",
    "df_submmit.to_csv('../data/op_gbm_scoring.csv', index=False)"
   ]
  },
  {
   "cell_type": "code",
   "execution_count": null,
   "metadata": {},
   "outputs": [],
   "source": [
    "disp=metrics.plot_roc_curve(lr, X_test, y_test)\n",
    "metrics.plot_roc_curve(tree_expert, X_test, y_test, ax=disp.ax_);\n",
    "metrics.plot_roc_curve(knn, X_test, y_test, ax=disp.ax_);\n",
    "metrics.plot_roc_curve(svml, X_test, y_test, ax=disp.ax_);\n",
    "metrics.plot_roc_curve(rf, X_test, y_test, ax=disp.ax_);\n",
    "metrics.plot_roc_curve(AdaBoost, X_test, y_test, ax=disp.ax_);\n",
    "metrics.plot_roc_curve(Cat, X_test, y_test, ax=disp.ax_);\n",
    "metrics.plot_roc_curve(opGBM, X_test, y_test, ax=disp.ax_)\n",
    "plt.show()  "
   ]
  },
  {
   "cell_type": "markdown",
   "metadata": {},
   "source": [
    "# Fin de la Fase de Desarrollo"
   ]
  },
  {
   "cell_type": "code",
   "execution_count": null,
   "metadata": {},
   "outputs": [],
   "source": [
    "# Guardamos el mejor modelo entrenado para usarlo en produccion!\n",
    "import pickle\n",
    "filename = '../models/bestmodel.pkl'\n",
    "pickle.dump(Cat, open(filename, 'wb'))"
   ]
  },
  {
   "cell_type": "markdown",
   "metadata": {},
   "source": [
    "### Validación de Modelos de Machine Learning"
   ]
  },
  {
   "cell_type": "code",
   "execution_count": null,
   "metadata": {
    "id": "xkPB5eqrS5SY"
   },
   "outputs": [],
   "source": [
    "# Todo lo realizado en el dataset de entrenamiento del modelo lo debemos replicar en el dataset de scoring"
   ]
  },
  {
   "cell_type": "code",
   "execution_count": null,
   "metadata": {
    "id": "yihrR0b6S5Sb"
   },
   "outputs": [],
   "source": [
    "data_unseen.shape"
   ]
  },
  {
   "cell_type": "code",
   "execution_count": null,
   "metadata": {
    "id": "UHCvxchzS5Ss"
   },
   "outputs": [],
   "source": [
    "# Una vez que tenemos todas las variables podemos scorear o puntuar los registros\n",
    "\n",
    "# Leemos el modelo entrenado!\n",
    "import pickle\n",
    "filename = '../models/bestmodel.pkl'\n",
    "mod_seg = pickle.load(open(filename, 'rb'))"
   ]
  },
  {
   "cell_type": "code",
   "execution_count": null,
   "metadata": {
    "id": "_IGiDz8kNHmP"
   },
   "outputs": [],
   "source": [
    "# Predecimos sobre el set de datos de implementacion con el modelo entrenado\n",
    "y_scoring3=mod_seg.predict(data_unseen.drop(['DEFAULT'],axis=1)) "
   ]
  },
  {
   "cell_type": "code",
   "execution_count": null,
   "metadata": {},
   "outputs": [],
   "source": [
    "y_scoring3.size"
   ]
  },
  {
   "cell_type": "code",
   "execution_count": null,
   "metadata": {
    "id": "L5kcXercS5S0"
   },
   "outputs": [],
   "source": [
    "# Adicional!\n",
    "# Juntamos el ID con la clase\n",
    "data = np.hstack((data_unseen['DEFAULT'].values.reshape(-1,1), y_scoring3.reshape(-1,1)))\n",
    "# Le asignamos nombres a las columnas\n",
    "df_submmit = pd.DataFrame(data, columns=['DEFAULT','Prob'])\n",
    "# Exportamos la solucion\n",
    "df_submmit.to_csv('../data/valida_scoring.csv', index=False)"
   ]
  },
  {
   "cell_type": "code",
   "execution_count": null,
   "metadata": {
    "id": "mgDCnX0cN2TU"
   },
   "outputs": [],
   "source": []
  },
  {
   "cell_type": "code",
   "execution_count": null,
   "metadata": {
    "id": "m0ZzrMdRS5S9"
   },
   "outputs": [],
   "source": [
    "# Fin !!"
   ]
  }
 ],
 "metadata": {
  "colab": {
   "collapsed_sections": [],
   "name": "S03_Modelamiento_EntrenamientoyValidacion.ipynb",
   "provenance": []
  },
  "kernelspec": {
   "display_name": "Python 3",
   "language": "python",
   "name": "python3"
  },
  "language_info": {
   "codemirror_mode": {
    "name": "ipython",
    "version": 3
   },
   "file_extension": ".py",
   "mimetype": "text/x-python",
   "name": "python",
   "nbconvert_exporter": "python",
   "pygments_lexer": "ipython3",
   "version": "3.7.6"
  },
  "toc": {
   "base_numbering": 1,
   "nav_menu": {},
   "number_sections": true,
   "sideBar": true,
   "skip_h1_title": false,
   "title_cell": "Table of Contents",
   "title_sidebar": "Contents",
   "toc_cell": false,
   "toc_position": {
    "height": "calc(100% - 180px)",
    "left": "10px",
    "top": "150px",
    "width": "165px"
   },
   "toc_section_display": true,
   "toc_window_display": false
  },
  "varInspector": {
   "cols": {
    "lenName": 16,
    "lenType": 16,
    "lenVar": 40
   },
   "kernels_config": {
    "python": {
     "delete_cmd_postfix": "",
     "delete_cmd_prefix": "del ",
     "library": "var_list.py",
     "varRefreshCmd": "print(var_dic_list())"
    },
    "r": {
     "delete_cmd_postfix": ") ",
     "delete_cmd_prefix": "rm(",
     "library": "var_list.r",
     "varRefreshCmd": "cat(var_dic_list()) "
    }
   },
   "types_to_exclude": [
    "module",
    "function",
    "builtin_function_or_method",
    "instance",
    "_Feature"
   ],
   "window_display": false
  }
 },
 "nbformat": 4,
 "nbformat_minor": 4
}
