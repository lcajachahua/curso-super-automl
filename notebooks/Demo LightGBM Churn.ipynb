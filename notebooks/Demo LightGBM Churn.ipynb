{
 "cells": [
  {
   "cell_type": "markdown",
   "id": "b5d32192-7503-4203-8d51-8d599b0c8634",
   "metadata": {},
   "source": [
    "# Implementando un Modelo de Churn de Clientes con PMML"
   ]
  },
  {
   "cell_type": "markdown",
   "id": "4cfb5956-5f2f-4641-b4b5-c2d6c8204a3b",
   "metadata": {},
   "source": [
    "### Instalamos los pre-requisitos y cargamos las librerías necesarias"
   ]
  },
  {
   "cell_type": "code",
   "execution_count": null,
   "id": "110a563b",
   "metadata": {},
   "outputs": [],
   "source": [
    "pip install lightgbm"
   ]
  },
  {
   "cell_type": "code",
   "execution_count": 1,
   "id": "71db6f76",
   "metadata": {},
   "outputs": [],
   "source": [
    "import warnings\n",
    "warnings.filterwarnings(\"ignore\")\n",
    "import pandas as pd\n",
    "import numpy as np\n",
    "from scipy import stats"
   ]
  },
  {
   "cell_type": "markdown",
   "id": "0103b045-b729-451c-937f-9abd2dfd4d2c",
   "metadata": {},
   "source": [
    "### Leemos el dataset de desarrollo"
   ]
  },
  {
   "cell_type": "code",
   "execution_count": 2,
   "id": "7964cad1",
   "metadata": {},
   "outputs": [
    {
     "data": {
      "text/plain": [
       "(3333, 21)"
      ]
     },
     "execution_count": 2,
     "metadata": {},
     "output_type": "execute_result"
    }
   ],
   "source": [
    "desarrll = pd.read_csv(\"../data/full_dataset.csv\",sep=',',encoding='latin-1')\n",
    "desarrll.shape"
   ]
  },
  {
   "cell_type": "code",
   "execution_count": 4,
   "id": "ee080cb8",
   "metadata": {},
   "outputs": [
    {
     "data": {
      "text/html": [
       "<div>\n",
       "<style scoped>\n",
       "    .dataframe tbody tr th:only-of-type {\n",
       "        vertical-align: middle;\n",
       "    }\n",
       "\n",
       "    .dataframe tbody tr th {\n",
       "        vertical-align: top;\n",
       "    }\n",
       "\n",
       "    .dataframe thead th {\n",
       "        text-align: right;\n",
       "    }\n",
       "</style>\n",
       "<table border=\"1\" class=\"dataframe\">\n",
       "  <thead>\n",
       "    <tr style=\"text-align: right;\">\n",
       "      <th></th>\n",
       "      <th>VMailMessage</th>\n",
       "      <th>DayMins</th>\n",
       "      <th>EveMins</th>\n",
       "      <th>NightMins</th>\n",
       "      <th>IntlMins</th>\n",
       "      <th>CustServCalls</th>\n",
       "      <th>DayCalls</th>\n",
       "      <th>DayCharge</th>\n",
       "      <th>EveCalls</th>\n",
       "      <th>EveCharge</th>\n",
       "      <th>...</th>\n",
       "      <th>NightCharge</th>\n",
       "      <th>IntlCalls</th>\n",
       "      <th>IntlCharge</th>\n",
       "      <th>AreaCode</th>\n",
       "      <th>Phone</th>\n",
       "      <th>AccountLength</th>\n",
       "      <th>Churn</th>\n",
       "      <th>IntlPlan</th>\n",
       "      <th>VMailPlan</th>\n",
       "      <th>State</th>\n",
       "    </tr>\n",
       "  </thead>\n",
       "  <tbody>\n",
       "    <tr>\n",
       "      <th>0</th>\n",
       "      <td>25</td>\n",
       "      <td>265.1</td>\n",
       "      <td>197.4</td>\n",
       "      <td>244.7</td>\n",
       "      <td>10.0</td>\n",
       "      <td>1</td>\n",
       "      <td>110</td>\n",
       "      <td>45.07</td>\n",
       "      <td>99</td>\n",
       "      <td>16.78</td>\n",
       "      <td>...</td>\n",
       "      <td>11.01</td>\n",
       "      <td>3</td>\n",
       "      <td>2.70</td>\n",
       "      <td>415</td>\n",
       "      <td>382-4657</td>\n",
       "      <td>128</td>\n",
       "      <td>0</td>\n",
       "      <td>0</td>\n",
       "      <td>1</td>\n",
       "      <td>KS</td>\n",
       "    </tr>\n",
       "    <tr>\n",
       "      <th>1</th>\n",
       "      <td>26</td>\n",
       "      <td>161.6</td>\n",
       "      <td>195.5</td>\n",
       "      <td>254.4</td>\n",
       "      <td>13.7</td>\n",
       "      <td>1</td>\n",
       "      <td>123</td>\n",
       "      <td>27.47</td>\n",
       "      <td>103</td>\n",
       "      <td>16.62</td>\n",
       "      <td>...</td>\n",
       "      <td>11.45</td>\n",
       "      <td>3</td>\n",
       "      <td>3.70</td>\n",
       "      <td>415</td>\n",
       "      <td>371-7191</td>\n",
       "      <td>107</td>\n",
       "      <td>0</td>\n",
       "      <td>0</td>\n",
       "      <td>1</td>\n",
       "      <td>OH</td>\n",
       "    </tr>\n",
       "    <tr>\n",
       "      <th>2</th>\n",
       "      <td>0</td>\n",
       "      <td>243.4</td>\n",
       "      <td>121.2</td>\n",
       "      <td>162.6</td>\n",
       "      <td>12.2</td>\n",
       "      <td>0</td>\n",
       "      <td>114</td>\n",
       "      <td>41.38</td>\n",
       "      <td>110</td>\n",
       "      <td>10.30</td>\n",
       "      <td>...</td>\n",
       "      <td>7.32</td>\n",
       "      <td>5</td>\n",
       "      <td>3.29</td>\n",
       "      <td>415</td>\n",
       "      <td>358-1921</td>\n",
       "      <td>137</td>\n",
       "      <td>0</td>\n",
       "      <td>0</td>\n",
       "      <td>0</td>\n",
       "      <td>NJ</td>\n",
       "    </tr>\n",
       "    <tr>\n",
       "      <th>3</th>\n",
       "      <td>0</td>\n",
       "      <td>299.4</td>\n",
       "      <td>61.9</td>\n",
       "      <td>196.9</td>\n",
       "      <td>6.6</td>\n",
       "      <td>2</td>\n",
       "      <td>71</td>\n",
       "      <td>50.90</td>\n",
       "      <td>88</td>\n",
       "      <td>5.26</td>\n",
       "      <td>...</td>\n",
       "      <td>8.86</td>\n",
       "      <td>7</td>\n",
       "      <td>1.78</td>\n",
       "      <td>408</td>\n",
       "      <td>375-9999</td>\n",
       "      <td>84</td>\n",
       "      <td>0</td>\n",
       "      <td>1</td>\n",
       "      <td>0</td>\n",
       "      <td>OH</td>\n",
       "    </tr>\n",
       "    <tr>\n",
       "      <th>4</th>\n",
       "      <td>0</td>\n",
       "      <td>166.7</td>\n",
       "      <td>148.3</td>\n",
       "      <td>186.9</td>\n",
       "      <td>10.1</td>\n",
       "      <td>3</td>\n",
       "      <td>113</td>\n",
       "      <td>28.34</td>\n",
       "      <td>122</td>\n",
       "      <td>12.61</td>\n",
       "      <td>...</td>\n",
       "      <td>8.41</td>\n",
       "      <td>3</td>\n",
       "      <td>2.73</td>\n",
       "      <td>415</td>\n",
       "      <td>330-6626</td>\n",
       "      <td>75</td>\n",
       "      <td>0</td>\n",
       "      <td>1</td>\n",
       "      <td>0</td>\n",
       "      <td>OK</td>\n",
       "    </tr>\n",
       "  </tbody>\n",
       "</table>\n",
       "<p>5 rows × 21 columns</p>\n",
       "</div>"
      ],
      "text/plain": [
       "   VMailMessage  DayMins  EveMins  NightMins  IntlMins  CustServCalls  \\\n",
       "0            25    265.1    197.4      244.7      10.0              1   \n",
       "1            26    161.6    195.5      254.4      13.7              1   \n",
       "2             0    243.4    121.2      162.6      12.2              0   \n",
       "3             0    299.4     61.9      196.9       6.6              2   \n",
       "4             0    166.7    148.3      186.9      10.1              3   \n",
       "\n",
       "   DayCalls  DayCharge  EveCalls  EveCharge  ...  NightCharge  IntlCalls  \\\n",
       "0       110      45.07        99      16.78  ...        11.01          3   \n",
       "1       123      27.47       103      16.62  ...        11.45          3   \n",
       "2       114      41.38       110      10.30  ...         7.32          5   \n",
       "3        71      50.90        88       5.26  ...         8.86          7   \n",
       "4       113      28.34       122      12.61  ...         8.41          3   \n",
       "\n",
       "   IntlCharge  AreaCode     Phone AccountLength  Churn  IntlPlan  VMailPlan  \\\n",
       "0        2.70       415  382-4657           128      0         0          1   \n",
       "1        3.70       415  371-7191           107      0         0          1   \n",
       "2        3.29       415  358-1921           137      0         0          0   \n",
       "3        1.78       408  375-9999            84      0         1          0   \n",
       "4        2.73       415  330-6626            75      0         1          0   \n",
       "\n",
       "   State  \n",
       "0     KS  \n",
       "1     OH  \n",
       "2     NJ  \n",
       "3     OH  \n",
       "4     OK  \n",
       "\n",
       "[5 rows x 21 columns]"
      ]
     },
     "execution_count": 4,
     "metadata": {},
     "output_type": "execute_result"
    }
   ],
   "source": [
    "desarrll.head()"
   ]
  },
  {
   "cell_type": "markdown",
   "id": "73a25f09-9940-44eb-a17b-3c0f6c8b98f4",
   "metadata": {},
   "source": [
    "### Revisamos los valores nulos o missings"
   ]
  },
  {
   "cell_type": "code",
   "execution_count": 6,
   "id": "df620f8a",
   "metadata": {},
   "outputs": [
    {
     "data": {
      "text/plain": [
       "VMailMessage     0\n",
       "DayMins          0\n",
       "EveMins          0\n",
       "NightMins        0\n",
       "IntlMins         0\n",
       "CustServCalls    0\n",
       "DayCalls         0\n",
       "DayCharge        0\n",
       "EveCalls         0\n",
       "EveCharge        0\n",
       "NightCalls       0\n",
       "NightCharge      0\n",
       "IntlCalls        0\n",
       "IntlCharge       0\n",
       "AreaCode         0\n",
       "Phone            0\n",
       "AccountLength    0\n",
       "Churn            0\n",
       "IntlPlan         0\n",
       "VMailPlan        0\n",
       "State            0\n",
       "dtype: int64"
      ]
     },
     "execution_count": 6,
     "metadata": {},
     "output_type": "execute_result"
    }
   ],
   "source": [
    "desarrll.isnull().sum()"
   ]
  },
  {
   "cell_type": "markdown",
   "id": "53b787d4-c1dd-4e7f-9392-50df4c0d4305",
   "metadata": {},
   "source": [
    "### División en train y test"
   ]
  },
  {
   "cell_type": "code",
   "execution_count": 5,
   "id": "8e0002da",
   "metadata": {},
   "outputs": [],
   "source": [
    "from sklearn.model_selection import train_test_split\n",
    "X_train, X_test, y_train, y_test = train_test_split(desarrll.drop(['Churn','Phone','State'],axis=1),\n",
    "                                                   desarrll['Churn'],\n",
    "                                                   test_size=0.33,\n",
    "                                                   random_state=12345) "
   ]
  },
  {
   "cell_type": "markdown",
   "id": "ad4c00f8-31dc-40ee-a56e-e1780baae6da",
   "metadata": {},
   "source": [
    "### Creamos un pipeline para poder almacenar el Modelo LightGBM"
   ]
  },
  {
   "cell_type": "code",
   "execution_count": 6,
   "id": "b82bb95b",
   "metadata": {},
   "outputs": [
    {
     "data": {
      "text/plain": [
       "Pipeline(steps=[('lgbmc', LGBMClassifier())])"
      ]
     },
     "execution_count": 6,
     "metadata": {},
     "output_type": "execute_result"
    }
   ],
   "source": [
    "from sklearn.pipeline import Pipeline\n",
    "from lightgbm import LGBMClassifier\n",
    "\n",
    "pipeline_obj = Pipeline([\n",
    "    ('lgbmc',LGBMClassifier())\n",
    "])\n",
    "\n",
    "pipeline_obj.fit(X_train,y_train)"
   ]
  },
  {
   "cell_type": "markdown",
   "id": "a3a99cd3-c0e4-435a-b8f8-bb76922351de",
   "metadata": {},
   "source": [
    "### Exportamos el modelo generado utilizando la librería Nyoka"
   ]
  },
  {
   "cell_type": "code",
   "execution_count": 7,
   "id": "102d9d9f",
   "metadata": {},
   "outputs": [],
   "source": [
    "from nyoka import lgb_to_pmml\n",
    "\n",
    "lgb_to_pmml(pipeline_obj,desarrll.columns,'churn',\"lgbmc_pmml.pmml\")"
   ]
  },
  {
   "cell_type": "markdown",
   "id": "7385a798-ce81-4439-92e5-11cdc1c25e1a",
   "metadata": {},
   "source": [
    "### Ya podemos llevar el Modelo en formato PMML a Vantage"
   ]
  },
  {
   "cell_type": "code",
   "execution_count": null,
   "id": "09a431f9-3ae6-462b-9f59-d8a341899519",
   "metadata": {},
   "outputs": [],
   "source": []
  },
  {
   "cell_type": "markdown",
   "id": "97014d9f-0097-4ea2-afd3-7fc39f16f2c3",
   "metadata": {},
   "source": [
    "Copyright 2021 - Elaborado por Luis Cajachahua"
   ]
  }
 ],
 "metadata": {
  "kernelspec": {
   "display_name": "Python 3",
   "language": "python",
   "name": "python3"
  },
  "language_info": {
   "codemirror_mode": {
    "name": "ipython",
    "version": 3
   },
   "file_extension": ".py",
   "mimetype": "text/x-python",
   "name": "python",
   "nbconvert_exporter": "python",
   "pygments_lexer": "ipython3",
   "version": "3.7.6"
  }
 },
 "nbformat": 4,
 "nbformat_minor": 5
}
